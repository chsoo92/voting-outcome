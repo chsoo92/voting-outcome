{
 "cells": [
  {
   "cell_type": "code",
   "execution_count": 41,
   "metadata": {},
   "outputs": [],
   "source": [
    "import math\n",
    "import numpy as np"
   ]
  },
  {
   "cell_type": "code",
   "execution_count": 42,
   "metadata": {},
   "outputs": [],
   "source": [
    "import csv\n",
    "maxage = 0;\n",
    "minage = 2030\n",
    "with open('train2016.csv', mode='r') as csv_file:\n",
    "    csv_reader = csv.DictReader(csv_file)\n",
    "    noTrainingExamples = 5568 # number of items in csv\n",
    "    noColumns = 108 # how many columns will we store\n",
    "    line_count = 0\n",
    "    outputs = np.zeros(noTrainingExamples)\n",
    "    matrices = np.zeros((noTrainingExamples, noColumns))\n",
    "    columnNames = np.empty([1,noColumns], dtype=object)\n",
    "    userIDs = np.empty([1,noTrainingExamples])\n",
    "    for row in csv_reader:\n",
    "            \n",
    "        matrix = np.zeros(noColumns)\n",
    "#             matrix[0] = float(row['YOB'])\n",
    "        userIDs[0,line_count] = row['USER_ID']\n",
    "        # YOB\n",
    "        columnNames[0,0] = 'YOB'\n",
    "        try:\n",
    "            matrix[0] = float(row['YOB'])\n",
    "             #matrix[0] = (((float(row['YOB'])%1900)/100)-0.5)\n",
    "            if matrix[0] > maxage:\n",
    "                maxage = matrix[0]\n",
    "            if matrix[0] < minage:\n",
    "                minage = matrix[0]\n",
    "        except ValueError:\n",
    "            matrix[0] = -1\n",
    "        \n",
    "        # GENDER\n",
    "        columnNames[0,1] = 'Gender'\n",
    "        if 'Male' in row['Gender']:\n",
    "            matrix[1] = 1\n",
    "        elif 'Female' in row['Gender']:\n",
    "            matrix[1] = 0\n",
    "        else:\n",
    "            matrix[1] = -1\n",
    "        \n",
    "            \n",
    "        #INCOME\n",
    "        columnNames[0,2] = 'Income'\n",
    "        if 'over $150,000' in row['Income']:\n",
    "            matrix[2] = 1\n",
    "        elif '$100,001 - $150,000' in row['Income']:\n",
    "            matrix[2] = 0.8\n",
    "        elif '$75,000 - $100,000' in row['Income']:\n",
    "            matrix[2] = 0.6\n",
    "        elif '$50,000 - $74,999' in row['Income']:\n",
    "            matrix[2] = 0.4\n",
    "        elif '$25,001 - $50,000' in row['Income']:\n",
    "            matrix[2] = 0.1\n",
    "        elif 'under $25,000' in row['Income']:\n",
    "            matrix[2] = 0\n",
    "        else:\n",
    "            matrix[2] = -1\n",
    "        \n",
    "        # HOUSEHOLD\n",
    "        columnNames[0,3] = 'HouseholdStatus'\n",
    "        if 'Married' in row['HouseholdStatus']:\n",
    "            matrix[3] = 1\n",
    "        elif 'Domestic' in row['HouseholdStatus']:\n",
    "            matrix[3] = 0.5\n",
    "        elif 'Single' in row['HouseholdStatus']:\n",
    "            matrix[3] = 0\n",
    "        else:\n",
    "            matrix[3] = -1\n",
    "        \n",
    "        # HAS KIDS OR NOT\n",
    "        columnNames[0,4] = 'Kids'\n",
    "        if 'w/' in row['HouseholdStatus']:\n",
    "            matrix[4] = 1\n",
    "        elif 'no' in row['HouseholdStatus']:\n",
    "            matrix[4] = 0\n",
    "        else:\n",
    "            matrix[4] = -1\n",
    "            \n",
    "        \n",
    "        # EDUCATION\n",
    "        columnNames[0,5] = 'EducationLevel'\n",
    "        if 'Doctoral' in row['EducationLevel']:\n",
    "            matrix[5] = 1\n",
    "        elif 'Master' in row['EducationLevel']:\n",
    "            matrix[5] = 0.9\n",
    "        elif 'Bachelor' in row['EducationLevel']:\n",
    "            matrix[5] = 0.7\n",
    "        elif 'Undergraduate' in row['EducationLevel']:\n",
    "            matrix[5] = 0.6\n",
    "        elif 'Associate' in row['EducationLevel']:\n",
    "            matrix[5] = 0.5\n",
    "        elif 'High School Diploma' in row['EducationLevel']:\n",
    "            matrix[5] = 0.25\n",
    "        elif 'K-12' in row['EducationLevel']:\n",
    "            matrix[5] = 0.0\n",
    "        else:\n",
    "            matrix[5] = -1\n",
    "        \n",
    "\n",
    "        nextIndex = 6\n",
    "        for col in row:\n",
    "            if col in ['USER_ID', 'YOB', 'Gender', 'Income', 'HouseholdStatus', 'EducationLevel','Party']:\n",
    "                continue\n",
    "            if row[col] in ['Yes', 'Check!', 'Optimist', 'Mom', 'Rent', 'Yay people!', 'Online', 'Yes!', 'Socialize', 'Cautious', 'Mac', 'Supportive', 'Tunes', 'People', 'TMI', 'Start', 'Circumstances', 'A.M.', 'Happy', 'Hot headed', 'Standard hours', 'Idealist', 'Giving', 'Study first', 'Science', 'Public']:\n",
    "                matrix[nextIndex] = 1\n",
    "            elif row[col] in ['No', 'Only-child', 'Nope', 'Pessimist', 'Dad', 'Own', 'Grrr people', 'In-person', 'Umm...', 'Space', 'Risk-friendly', 'PC', 'Demanding', 'Talk', 'Technology', 'Mysterious', 'End', 'Me', 'P.M.', 'Right', 'Cool headed', 'Odd hours', 'Pragmatist', 'Receiving', 'Try first', 'Art', 'Private']:\n",
    "                matrix[nextIndex] = 0\n",
    "            else:\n",
    "                matrix[nextIndex] = -1\n",
    "            columnNames[0,nextIndex] = col\n",
    "            nextIndex += 1\n",
    "            \n",
    "        try:\n",
    "            partyAff = row['Party']\n",
    "            columnNames[0,nextIndex] = 'Party'\n",
    "            if 'Dem' in row['Party']:\n",
    "                matrix[nextIndex] = 1\n",
    "                outputs[line_count] = 1\n",
    "            elif 'Rep' in row['Party']:\n",
    "                matrix[nextIndex] = 0\n",
    "                outputs[line_count] = 0\n",
    "            else:\n",
    "                matrix[nextIndex] = -1\n",
    "                outputs[line_count] = -1\n",
    "        except:\n",
    "            matrix[nextIndex] = -1\n",
    "           \n",
    "        matrices[line_count,:] = matrix\n",
    "        line_count +=1\n",
    "        if line_count >= noTrainingExamples:\n",
    "            break"
   ]
  },
  {
   "cell_type": "code",
   "execution_count": 43,
   "metadata": {},
   "outputs": [
    {
     "data": {
      "text/plain": [
       "1880.0"
      ]
     },
     "execution_count": 43,
     "metadata": {},
     "output_type": "execute_result"
    }
   ],
   "source": [
    "maxage\n",
    "minage"
   ]
  },
  {
   "cell_type": "code",
   "execution_count": 44,
   "metadata": {},
   "outputs": [
    {
     "name": "stdout",
     "output_type": "stream",
     "text": [
      "108\n"
     ]
    }
   ],
   "source": [
    "#number of total questions, including party one voted for\n",
    "print(len(columnNames[0,:]))"
   ]
  },
  {
   "cell_type": "code",
   "execution_count": 45,
   "metadata": {},
   "outputs": [
    {
     "name": "stdout",
     "output_type": "stream",
     "text": [
      "      YOB  Gender  Income  HouseholdStatus  Kids  EducationLevel  Q124742  \\\n",
      "0  1938.0     1.0    -1.0              1.0   1.0           -1.00      0.0   \n",
      "1  1970.0     0.0     1.0              0.5   1.0            0.70     -1.0   \n",
      "2  1997.0     1.0     0.6              0.0   0.0            0.25     -1.0   \n",
      "3  1983.0     1.0     0.8              1.0   1.0            0.70      0.0   \n",
      "4  1984.0     0.0     0.4              1.0   1.0            0.25      0.0   \n",
      "\n",
      "   Q124122  Q123464  Q123621  ...    Q99716  Q99581  Q99480  Q98869  Q98578  \\\n",
      "0     -1.0      0.0      0.0  ...       0.0     0.0    -1.0     0.0    -1.0   \n",
      "1      1.0      0.0      0.0  ...      -1.0    -1.0     0.0     0.0     0.0   \n",
      "2      1.0      1.0      0.0  ...       0.0     0.0     0.0     1.0     0.0   \n",
      "3      1.0      0.0      1.0  ...       0.0     0.0     1.0     1.0     0.0   \n",
      "4      1.0      0.0      0.0  ...       0.0     0.0     1.0     0.0     0.0   \n",
      "\n",
      "   Q98059  Q98078  Q98197  Q96024  Party  \n",
      "0     0.0     0.0     0.0     1.0    1.0  \n",
      "1     0.0     1.0     0.0     0.0    1.0  \n",
      "2     1.0     0.0     1.0     0.0    0.0  \n",
      "3     1.0     0.0     0.0     1.0    1.0  \n",
      "4     1.0     0.0     0.0     1.0    0.0  \n",
      "\n",
      "[5 rows x 108 columns]\n"
     ]
    }
   ],
   "source": [
    "import pandas as pd\n",
    "data = pd.DataFrame(data=matrices,\n",
    "                   columns=columnNames[0,:])\n",
    "print(data.head()) # converted input data"
   ]
  },
  {
   "cell_type": "code",
   "execution_count": 46,
   "metadata": {},
   "outputs": [
    {
     "data": {
      "text/plain": [
       "-1.0"
      ]
     },
     "execution_count": 46,
     "metadata": {},
     "output_type": "execute_result"
    }
   ],
   "source": [
    "min(data['YOB'])# check if there are empty YOB."
   ]
  },
  {
   "cell_type": "code",
   "execution_count": 47,
   "metadata": {},
   "outputs": [],
   "source": [
    "# import matplotlib.pyplot as plt\n",
    "# # import tensorflow as tf\n",
    "# %matplotlib inline\n",
    "# # import os\n",
    "# # os.environ[\"CUDA_VISIBLE_DEVICES\"]=\"0\" #for training on gpu"
   ]
  },
  {
   "cell_type": "code",
   "execution_count": 48,
   "metadata": {},
   "outputs": [
    {
     "name": "stdout",
     "output_type": "stream",
     "text": [
      "(5568, 108)\n"
     ]
    }
   ],
   "source": [
    "#108 questions from 5568 people\n",
    "print(data.shape)"
   ]
  },
  {
   "cell_type": "code",
   "execution_count": 49,
   "metadata": {},
   "outputs": [
    {
     "name": "stdout",
     "output_type": "stream",
     "text": [
      "      YOB  Gender  Income  HouseholdStatus  Kids  EducationLevel  Q124742  \\\n",
      "0  1938.0     1.0    -1.0              1.0   1.0           -1.00      0.0   \n",
      "1  1970.0     0.0     1.0              0.5   1.0            0.70     -1.0   \n",
      "2  1997.0     1.0     0.6              0.0   0.0            0.25     -1.0   \n",
      "3  1983.0     1.0     0.8              1.0   1.0            0.70      0.0   \n",
      "4  1984.0     0.0     0.4              1.0   1.0            0.25      0.0   \n",
      "\n",
      "   Q124122  Q123464  Q123621   ...    Q100010  Q99716  Q99581  Q99480  Q98869  \\\n",
      "0     -1.0      0.0      0.0   ...        1.0     0.0     0.0    -1.0     0.0   \n",
      "1      1.0      0.0      0.0   ...       -1.0    -1.0    -1.0     0.0     0.0   \n",
      "2      1.0      1.0      0.0   ...        1.0     0.0     0.0     0.0     1.0   \n",
      "3      1.0      0.0      1.0   ...        0.0     0.0     0.0     1.0     1.0   \n",
      "4      1.0      0.0      0.0   ...        1.0     0.0     0.0     1.0     0.0   \n",
      "\n",
      "   Q98578  Q98059  Q98078  Q98197  Q96024  \n",
      "0    -1.0     0.0     0.0     0.0     1.0  \n",
      "1     0.0     0.0     1.0     0.0     0.0  \n",
      "2     0.0     1.0     0.0     1.0     0.0  \n",
      "3     0.0     1.0     0.0     0.0     1.0  \n",
      "4     0.0     1.0     0.0     0.0     1.0  \n",
      "\n",
      "[5 rows x 107 columns]\n",
      "0    1.0\n",
      "1    1.0\n",
      "2    0.0\n",
      "3    1.0\n",
      "4    0.0\n",
      "Name: Party, dtype: float64\n"
     ]
    }
   ],
   "source": [
    "# remove political party entry from the input and assign it as the target\n",
    "X = data.drop('Party', axis=1)\n",
    "y = data['Party']\n",
    "print(X.head())\n",
    "print(y.head())"
   ]
  },
  {
   "cell_type": "code",
   "execution_count": 50,
   "metadata": {},
   "outputs": [],
   "source": [
    "import tensorflow as tf\n",
    "import tensorflow_hub as hub\n",
    "import matplotlib.pyplot as plt\n",
    "# import numpy as np\n",
    "import os\n",
    "# import pandas as pd\n",
    "import re\n",
    "import seaborn as sns"
   ]
  },
  {
   "cell_type": "code",
   "execution_count": 51,
   "metadata": {},
   "outputs": [
    {
     "name": "stdout",
     "output_type": "stream",
     "text": [
      "4473\n",
      "1095\n"
     ]
    }
   ],
   "source": [
    "# 80% of the data for training, 20% for testing\n",
    "msk = np.random.rand(len(data)) < 0.8\n",
    "train_data = data[msk]\n",
    "test_data = data[~msk]\n",
    "print(len(train_data))\n",
    "print(len(test_data))\n",
    "\n",
    "\n",
    "# Training input on the whole training set with no limit on training epochs.\n",
    "train_input_fn = tf.estimator.inputs.pandas_input_fn(\n",
    "    train_data, train_data[\"Party\"], num_epochs=None, shuffle=True)\n",
    "\n",
    "# Prediction on the whole training set.\n",
    "predict_train_input_fn = tf.estimator.inputs.pandas_input_fn(\n",
    "    train_data, train_data[\"Party\"], shuffle=False)\n",
    "# Prediction on the test set.\n",
    "predict_test_input_fn = tf.estimator.inputs.pandas_input_fn(\n",
    "    test_data, test_data[\"Party\"], shuffle=False)"
   ]
  },
  {
   "cell_type": "code",
   "execution_count": 52,
   "metadata": {},
   "outputs": [],
   "source": [
    "from sklearn.model_selection import train_test_split\n",
    "X_train, X_test, y_train, y_test = train_test_split(X,y,test_size = 0.20)"
   ]
  },
  {
   "cell_type": "code",
   "execution_count": 53,
   "metadata": {},
   "outputs": [
    {
     "name": "stdout",
     "output_type": "stream",
     "text": [
      "INFO:tensorflow:Using default config.\n"
     ]
    },
    {
     "name": "stderr",
     "output_type": "stream",
     "text": [
      "I0422 18:25:16.067754 4551058880 estimator.py:1739] Using default config.\n"
     ]
    },
    {
     "name": "stdout",
     "output_type": "stream",
     "text": [
      "WARNING:tensorflow:Using temporary folder as model directory: /var/folders/y9/7kjb4fj50lngbqcff3_4y4n40000gn/T/tmpppjvytb2\n"
     ]
    },
    {
     "name": "stderr",
     "output_type": "stream",
     "text": [
      "W0422 18:25:16.072177 4551058880 estimator.py:1760] Using temporary folder as model directory: /var/folders/y9/7kjb4fj50lngbqcff3_4y4n40000gn/T/tmpppjvytb2\n"
     ]
    },
    {
     "name": "stdout",
     "output_type": "stream",
     "text": [
      "INFO:tensorflow:Using config: {'_model_dir': '/var/folders/y9/7kjb4fj50lngbqcff3_4y4n40000gn/T/tmpppjvytb2', '_tf_random_seed': None, '_save_summary_steps': 100, '_save_checkpoints_steps': None, '_save_checkpoints_secs': 600, '_session_config': allow_soft_placement: true\n",
      "graph_options {\n",
      "  rewrite_options {\n",
      "    meta_optimizer_iterations: ONE\n",
      "  }\n",
      "}\n",
      ", '_keep_checkpoint_max': 5, '_keep_checkpoint_every_n_hours': 10000, '_log_step_count_steps': 100, '_train_distribute': None, '_device_fn': None, '_protocol': None, '_eval_distribute': None, '_experimental_distribute': None, '_service': None, '_cluster_spec': <tensorflow.python.training.server_lib.ClusterSpec object at 0x1a31acb748>, '_task_type': 'worker', '_task_id': 0, '_global_id_in_cluster': 0, '_master': '', '_evaluation_master': '', '_is_chief': True, '_num_ps_replicas': 0, '_num_worker_replicas': 1}\n"
     ]
    },
    {
     "name": "stderr",
     "output_type": "stream",
     "text": [
      "I0422 18:25:16.074887 4551058880 estimator.py:201] Using config: {'_model_dir': '/var/folders/y9/7kjb4fj50lngbqcff3_4y4n40000gn/T/tmpppjvytb2', '_tf_random_seed': None, '_save_summary_steps': 100, '_save_checkpoints_steps': None, '_save_checkpoints_secs': 600, '_session_config': allow_soft_placement: true\n",
      "graph_options {\n",
      "  rewrite_options {\n",
      "    meta_optimizer_iterations: ONE\n",
      "  }\n",
      "}\n",
      ", '_keep_checkpoint_max': 5, '_keep_checkpoint_every_n_hours': 10000, '_log_step_count_steps': 100, '_train_distribute': None, '_device_fn': None, '_protocol': None, '_eval_distribute': None, '_experimental_distribute': None, '_service': None, '_cluster_spec': <tensorflow.python.training.server_lib.ClusterSpec object at 0x1a31acb748>, '_task_type': 'worker', '_task_id': 0, '_global_id_in_cluster': 0, '_master': '', '_evaluation_master': '', '_is_chief': True, '_num_ps_replicas': 0, '_num_worker_replicas': 1}\n"
     ]
    }
   ],
   "source": [
    "#DNN configuration\n",
    "feature_columns = [tf.feature_column.numeric_column(key = key) for key in X_train.columns]\n",
    "estimator = tf.estimator.DNNClassifier(\n",
    "                hidden_units=[50,50,25],\n",
    "                feature_columns=feature_columns,\n",
    "                n_classes=2,\n",
    "                optimizer=tf.train.AdagradOptimizer(learning_rate=0.003))"
   ]
  },
  {
   "cell_type": "code",
   "execution_count": 54,
   "metadata": {},
   "outputs": [
    {
     "name": "stdout",
     "output_type": "stream",
     "text": [
      "INFO:tensorflow:Calling model_fn.\n"
     ]
    },
    {
     "name": "stderr",
     "output_type": "stream",
     "text": [
      "I0422 18:25:16.256173 4551058880 estimator.py:1111] Calling model_fn.\n"
     ]
    },
    {
     "name": "stdout",
     "output_type": "stream",
     "text": [
      "INFO:tensorflow:Done calling model_fn.\n"
     ]
    },
    {
     "name": "stderr",
     "output_type": "stream",
     "text": [
      "I0422 18:25:17.811260 4551058880 estimator.py:1113] Done calling model_fn.\n"
     ]
    },
    {
     "name": "stdout",
     "output_type": "stream",
     "text": [
      "INFO:tensorflow:Create CheckpointSaverHook.\n"
     ]
    },
    {
     "name": "stderr",
     "output_type": "stream",
     "text": [
      "I0422 18:25:17.812707 4551058880 basic_session_run_hooks.py:527] Create CheckpointSaverHook.\n"
     ]
    },
    {
     "name": "stdout",
     "output_type": "stream",
     "text": [
      "INFO:tensorflow:Graph was finalized.\n"
     ]
    },
    {
     "name": "stderr",
     "output_type": "stream",
     "text": [
      "I0422 18:25:18.136492 4551058880 monitored_session.py:222] Graph was finalized.\n"
     ]
    },
    {
     "name": "stdout",
     "output_type": "stream",
     "text": [
      "INFO:tensorflow:Running local_init_op.\n"
     ]
    },
    {
     "name": "stderr",
     "output_type": "stream",
     "text": [
      "I0422 18:25:18.276249 4551058880 session_manager.py:491] Running local_init_op.\n"
     ]
    },
    {
     "name": "stdout",
     "output_type": "stream",
     "text": [
      "INFO:tensorflow:Done running local_init_op.\n"
     ]
    },
    {
     "name": "stderr",
     "output_type": "stream",
     "text": [
      "I0422 18:25:18.310487 4551058880 session_manager.py:493] Done running local_init_op.\n"
     ]
    },
    {
     "name": "stdout",
     "output_type": "stream",
     "text": [
      "INFO:tensorflow:Saving checkpoints for 0 into /var/folders/y9/7kjb4fj50lngbqcff3_4y4n40000gn/T/tmpppjvytb2/model.ckpt.\n"
     ]
    },
    {
     "name": "stderr",
     "output_type": "stream",
     "text": [
      "I0422 18:25:19.385702 4551058880 basic_session_run_hooks.py:594] Saving checkpoints for 0 into /var/folders/y9/7kjb4fj50lngbqcff3_4y4n40000gn/T/tmpppjvytb2/model.ckpt.\n"
     ]
    },
    {
     "name": "stdout",
     "output_type": "stream",
     "text": [
      "INFO:tensorflow:loss = 16992.102, step = 1\n"
     ]
    },
    {
     "name": "stderr",
     "output_type": "stream",
     "text": [
      "I0422 18:25:19.883538 4551058880 basic_session_run_hooks.py:249] loss = 16992.102, step = 1\n"
     ]
    },
    {
     "name": "stdout",
     "output_type": "stream",
     "text": [
      "INFO:tensorflow:global_step/sec: 53.0356\n"
     ]
    },
    {
     "name": "stderr",
     "output_type": "stream",
     "text": [
      "I0422 18:25:21.768543 4551058880 basic_session_run_hooks.py:680] global_step/sec: 53.0356\n"
     ]
    },
    {
     "name": "stdout",
     "output_type": "stream",
     "text": [
      "INFO:tensorflow:loss = 268.24493, step = 101 (1.887 sec)\n"
     ]
    },
    {
     "name": "stderr",
     "output_type": "stream",
     "text": [
      "I0422 18:25:21.770765 4551058880 basic_session_run_hooks.py:247] loss = 268.24493, step = 101 (1.887 sec)\n"
     ]
    },
    {
     "name": "stdout",
     "output_type": "stream",
     "text": [
      "INFO:tensorflow:global_step/sec: 64.4312\n"
     ]
    },
    {
     "name": "stderr",
     "output_type": "stream",
     "text": [
      "I0422 18:25:23.320582 4551058880 basic_session_run_hooks.py:680] global_step/sec: 64.4312\n"
     ]
    },
    {
     "name": "stdout",
     "output_type": "stream",
     "text": [
      "INFO:tensorflow:loss = 151.48106, step = 201 (1.555 sec)\n"
     ]
    },
    {
     "name": "stderr",
     "output_type": "stream",
     "text": [
      "I0422 18:25:23.325338 4551058880 basic_session_run_hooks.py:247] loss = 151.48106, step = 201 (1.555 sec)\n"
     ]
    },
    {
     "name": "stdout",
     "output_type": "stream",
     "text": [
      "INFO:tensorflow:global_step/sec: 65.4755\n"
     ]
    },
    {
     "name": "stderr",
     "output_type": "stream",
     "text": [
      "I0422 18:25:24.847903 4551058880 basic_session_run_hooks.py:680] global_step/sec: 65.4755\n"
     ]
    },
    {
     "name": "stdout",
     "output_type": "stream",
     "text": [
      "INFO:tensorflow:loss = 102.73842, step = 301 (1.524 sec)\n"
     ]
    },
    {
     "name": "stderr",
     "output_type": "stream",
     "text": [
      "I0422 18:25:24.849798 4551058880 basic_session_run_hooks.py:247] loss = 102.73842, step = 301 (1.524 sec)\n"
     ]
    },
    {
     "name": "stdout",
     "output_type": "stream",
     "text": [
      "INFO:tensorflow:global_step/sec: 63.3687\n"
     ]
    },
    {
     "name": "stderr",
     "output_type": "stream",
     "text": [
      "I0422 18:25:26.425940 4551058880 basic_session_run_hooks.py:680] global_step/sec: 63.3687\n"
     ]
    },
    {
     "name": "stdout",
     "output_type": "stream",
     "text": [
      "INFO:tensorflow:loss = 135.41862, step = 401 (1.579 sec)\n"
     ]
    },
    {
     "name": "stderr",
     "output_type": "stream",
     "text": [
      "I0422 18:25:26.428318 4551058880 basic_session_run_hooks.py:247] loss = 135.41862, step = 401 (1.579 sec)\n"
     ]
    },
    {
     "name": "stdout",
     "output_type": "stream",
     "text": [
      "INFO:tensorflow:global_step/sec: 66.5216\n"
     ]
    },
    {
     "name": "stderr",
     "output_type": "stream",
     "text": [
      "I0422 18:25:27.929234 4551058880 basic_session_run_hooks.py:680] global_step/sec: 66.5216\n"
     ]
    },
    {
     "name": "stdout",
     "output_type": "stream",
     "text": [
      "INFO:tensorflow:loss = 94.52732, step = 501 (1.503 sec)\n"
     ]
    },
    {
     "name": "stderr",
     "output_type": "stream",
     "text": [
      "I0422 18:25:27.931435 4551058880 basic_session_run_hooks.py:247] loss = 94.52732, step = 501 (1.503 sec)\n"
     ]
    },
    {
     "name": "stdout",
     "output_type": "stream",
     "text": [
      "INFO:tensorflow:global_step/sec: 71.86\n"
     ]
    },
    {
     "name": "stderr",
     "output_type": "stream",
     "text": [
      "I0422 18:25:29.320847 4551058880 basic_session_run_hooks.py:680] global_step/sec: 71.86\n"
     ]
    },
    {
     "name": "stdout",
     "output_type": "stream",
     "text": [
      "INFO:tensorflow:loss = 86.5202, step = 601 (1.391 sec)\n"
     ]
    },
    {
     "name": "stderr",
     "output_type": "stream",
     "text": [
      "I0422 18:25:29.322669 4551058880 basic_session_run_hooks.py:247] loss = 86.5202, step = 601 (1.391 sec)\n"
     ]
    },
    {
     "name": "stdout",
     "output_type": "stream",
     "text": [
      "INFO:tensorflow:global_step/sec: 70.3379\n"
     ]
    },
    {
     "name": "stderr",
     "output_type": "stream",
     "text": [
      "I0422 18:25:30.742556 4551058880 basic_session_run_hooks.py:680] global_step/sec: 70.3379\n"
     ]
    },
    {
     "name": "stdout",
     "output_type": "stream",
     "text": [
      "INFO:tensorflow:loss = 87.905266, step = 701 (1.423 sec)\n"
     ]
    },
    {
     "name": "stderr",
     "output_type": "stream",
     "text": [
      "I0422 18:25:30.745867 4551058880 basic_session_run_hooks.py:247] loss = 87.905266, step = 701 (1.423 sec)\n"
     ]
    },
    {
     "name": "stdout",
     "output_type": "stream",
     "text": [
      "INFO:tensorflow:global_step/sec: 66.4605\n"
     ]
    },
    {
     "name": "stderr",
     "output_type": "stream",
     "text": [
      "I0422 18:25:32.247190 4551058880 basic_session_run_hooks.py:680] global_step/sec: 66.4605\n"
     ]
    },
    {
     "name": "stdout",
     "output_type": "stream",
     "text": [
      "INFO:tensorflow:loss = 87.73906, step = 801 (1.503 sec)\n"
     ]
    },
    {
     "name": "stderr",
     "output_type": "stream",
     "text": [
      "I0422 18:25:32.249040 4551058880 basic_session_run_hooks.py:247] loss = 87.73906, step = 801 (1.503 sec)\n"
     ]
    },
    {
     "name": "stdout",
     "output_type": "stream",
     "text": [
      "INFO:tensorflow:global_step/sec: 60.9657\n"
     ]
    },
    {
     "name": "stderr",
     "output_type": "stream",
     "text": [
      "I0422 18:25:33.887492 4551058880 basic_session_run_hooks.py:680] global_step/sec: 60.9657\n"
     ]
    },
    {
     "name": "stdout",
     "output_type": "stream",
     "text": [
      "INFO:tensorflow:loss = 92.63214, step = 901 (1.643 sec)\n"
     ]
    },
    {
     "name": "stderr",
     "output_type": "stream",
     "text": [
      "I0422 18:25:33.891571 4551058880 basic_session_run_hooks.py:247] loss = 92.63214, step = 901 (1.643 sec)\n"
     ]
    },
    {
     "name": "stdout",
     "output_type": "stream",
     "text": [
      "INFO:tensorflow:Saving checkpoints for 1000 into /var/folders/y9/7kjb4fj50lngbqcff3_4y4n40000gn/T/tmpppjvytb2/model.ckpt.\n"
     ]
    },
    {
     "name": "stderr",
     "output_type": "stream",
     "text": [
      "I0422 18:25:35.856410 4551058880 basic_session_run_hooks.py:594] Saving checkpoints for 1000 into /var/folders/y9/7kjb4fj50lngbqcff3_4y4n40000gn/T/tmpppjvytb2/model.ckpt.\n"
     ]
    },
    {
     "name": "stdout",
     "output_type": "stream",
     "text": [
      "INFO:tensorflow:Loss for final step: 103.397964.\n"
     ]
    },
    {
     "name": "stderr",
     "output_type": "stream",
     "text": [
      "I0422 18:25:36.192281 4551058880 estimator.py:359] Loss for final step: 103.397964.\n"
     ]
    },
    {
     "data": {
      "text/plain": [
       "<tensorflow_estimator.python.estimator.canned.dnn.DNNClassifier at 0x1a31acbdd8>"
      ]
     },
     "execution_count": 54,
     "metadata": {},
     "output_type": "execute_result"
    }
   ],
   "source": [
    "# configure the amount of trainings\n",
    "estimator.train(input_fn=train_input_fn, steps=1000)"
   ]
  },
  {
   "cell_type": "code",
   "execution_count": 55,
   "metadata": {},
   "outputs": [
    {
     "name": "stdout",
     "output_type": "stream",
     "text": [
      "INFO:tensorflow:Calling model_fn.\n"
     ]
    },
    {
     "name": "stderr",
     "output_type": "stream",
     "text": [
      "I0422 18:25:36.328758 4551058880 estimator.py:1111] Calling model_fn.\n"
     ]
    },
    {
     "name": "stdout",
     "output_type": "stream",
     "text": [
      "WARNING:tensorflow:Trapezoidal rule is known to produce incorrect PR-AUCs; please switch to \"careful_interpolation\" instead.\n"
     ]
    },
    {
     "name": "stderr",
     "output_type": "stream",
     "text": [
      "W0422 18:25:37.919126 4551058880 metrics_impl.py:783] Trapezoidal rule is known to produce incorrect PR-AUCs; please switch to \"careful_interpolation\" instead.\n"
     ]
    },
    {
     "name": "stdout",
     "output_type": "stream",
     "text": [
      "WARNING:tensorflow:Trapezoidal rule is known to produce incorrect PR-AUCs; please switch to \"careful_interpolation\" instead.\n"
     ]
    },
    {
     "name": "stderr",
     "output_type": "stream",
     "text": [
      "W0422 18:25:37.944617 4551058880 metrics_impl.py:783] Trapezoidal rule is known to produce incorrect PR-AUCs; please switch to \"careful_interpolation\" instead.\n"
     ]
    },
    {
     "name": "stdout",
     "output_type": "stream",
     "text": [
      "INFO:tensorflow:Done calling model_fn.\n"
     ]
    },
    {
     "name": "stderr",
     "output_type": "stream",
     "text": [
      "I0422 18:25:38.131264 4551058880 estimator.py:1113] Done calling model_fn.\n"
     ]
    },
    {
     "name": "stdout",
     "output_type": "stream",
     "text": [
      "INFO:tensorflow:Starting evaluation at 2020-04-22T09:25:38Z\n"
     ]
    },
    {
     "name": "stderr",
     "output_type": "stream",
     "text": [
      "I0422 18:25:38.162177 4551058880 evaluation.py:257] Starting evaluation at 2020-04-22T09:25:38Z\n"
     ]
    },
    {
     "name": "stdout",
     "output_type": "stream",
     "text": [
      "INFO:tensorflow:Graph was finalized.\n"
     ]
    },
    {
     "name": "stderr",
     "output_type": "stream",
     "text": [
      "I0422 18:25:38.375019 4551058880 monitored_session.py:222] Graph was finalized.\n"
     ]
    },
    {
     "name": "stdout",
     "output_type": "stream",
     "text": [
      "INFO:tensorflow:Restoring parameters from /var/folders/y9/7kjb4fj50lngbqcff3_4y4n40000gn/T/tmpppjvytb2/model.ckpt-1000\n"
     ]
    },
    {
     "name": "stderr",
     "output_type": "stream",
     "text": [
      "I0422 18:25:38.377985 4551058880 saver.py:1270] Restoring parameters from /var/folders/y9/7kjb4fj50lngbqcff3_4y4n40000gn/T/tmpppjvytb2/model.ckpt-1000\n"
     ]
    },
    {
     "name": "stdout",
     "output_type": "stream",
     "text": [
      "INFO:tensorflow:Running local_init_op.\n"
     ]
    },
    {
     "name": "stderr",
     "output_type": "stream",
     "text": [
      "I0422 18:25:38.527113 4551058880 session_manager.py:491] Running local_init_op.\n"
     ]
    },
    {
     "name": "stdout",
     "output_type": "stream",
     "text": [
      "INFO:tensorflow:Done running local_init_op.\n"
     ]
    },
    {
     "name": "stderr",
     "output_type": "stream",
     "text": [
      "I0422 18:25:38.582725 4551058880 session_manager.py:493] Done running local_init_op.\n"
     ]
    },
    {
     "name": "stdout",
     "output_type": "stream",
     "text": [
      "INFO:tensorflow:Finished evaluation at 2020-04-22-09:25:39\n"
     ]
    },
    {
     "name": "stderr",
     "output_type": "stream",
     "text": [
      "I0422 18:25:39.908174 4551058880 evaluation.py:277] Finished evaluation at 2020-04-22-09:25:39\n"
     ]
    },
    {
     "name": "stdout",
     "output_type": "stream",
     "text": [
      "INFO:tensorflow:Saving dict for global step 1000: accuracy = 0.506148, accuracy_baseline = 0.5345406, auc = 0.62039745, auc_precision_recall = 0.64426184, average_loss = 0.71431196, global_step = 1000, label/mean = 0.5345406, loss = 91.28907, precision = 0.72864324, prediction/mean = 0.3867617, recall = 0.121288165\n"
     ]
    },
    {
     "name": "stderr",
     "output_type": "stream",
     "text": [
      "I0422 18:25:39.909505 4551058880 estimator.py:1979] Saving dict for global step 1000: accuracy = 0.506148, accuracy_baseline = 0.5345406, auc = 0.62039745, auc_precision_recall = 0.64426184, average_loss = 0.71431196, global_step = 1000, label/mean = 0.5345406, loss = 91.28907, precision = 0.72864324, prediction/mean = 0.3867617, recall = 0.121288165\n"
     ]
    },
    {
     "name": "stdout",
     "output_type": "stream",
     "text": [
      "INFO:tensorflow:Saving 'checkpoint_path' summary for global step 1000: /var/folders/y9/7kjb4fj50lngbqcff3_4y4n40000gn/T/tmpppjvytb2/model.ckpt-1000\n"
     ]
    },
    {
     "name": "stderr",
     "output_type": "stream",
     "text": [
      "I0422 18:25:40.243762 4551058880 estimator.py:2039] Saving 'checkpoint_path' summary for global step 1000: /var/folders/y9/7kjb4fj50lngbqcff3_4y4n40000gn/T/tmpppjvytb2/model.ckpt-1000\n"
     ]
    },
    {
     "name": "stdout",
     "output_type": "stream",
     "text": [
      "INFO:tensorflow:Calling model_fn.\n"
     ]
    },
    {
     "name": "stderr",
     "output_type": "stream",
     "text": [
      "I0422 18:25:40.321407 4551058880 estimator.py:1111] Calling model_fn.\n"
     ]
    },
    {
     "name": "stdout",
     "output_type": "stream",
     "text": [
      "WARNING:tensorflow:Trapezoidal rule is known to produce incorrect PR-AUCs; please switch to \"careful_interpolation\" instead.\n"
     ]
    },
    {
     "name": "stderr",
     "output_type": "stream",
     "text": [
      "W0422 18:25:41.524196 4551058880 metrics_impl.py:783] Trapezoidal rule is known to produce incorrect PR-AUCs; please switch to \"careful_interpolation\" instead.\n"
     ]
    },
    {
     "name": "stdout",
     "output_type": "stream",
     "text": [
      "WARNING:tensorflow:Trapezoidal rule is known to produce incorrect PR-AUCs; please switch to \"careful_interpolation\" instead.\n"
     ]
    },
    {
     "name": "stderr",
     "output_type": "stream",
     "text": [
      "W0422 18:25:41.551195 4551058880 metrics_impl.py:783] Trapezoidal rule is known to produce incorrect PR-AUCs; please switch to \"careful_interpolation\" instead.\n"
     ]
    },
    {
     "name": "stdout",
     "output_type": "stream",
     "text": [
      "INFO:tensorflow:Done calling model_fn.\n"
     ]
    },
    {
     "name": "stderr",
     "output_type": "stream",
     "text": [
      "I0422 18:25:41.879261 4551058880 estimator.py:1113] Done calling model_fn.\n"
     ]
    },
    {
     "name": "stdout",
     "output_type": "stream",
     "text": [
      "INFO:tensorflow:Starting evaluation at 2020-04-22T09:25:41Z\n"
     ]
    },
    {
     "name": "stderr",
     "output_type": "stream",
     "text": [
      "I0422 18:25:41.902612 4551058880 evaluation.py:257] Starting evaluation at 2020-04-22T09:25:41Z\n"
     ]
    },
    {
     "name": "stdout",
     "output_type": "stream",
     "text": [
      "INFO:tensorflow:Graph was finalized.\n"
     ]
    },
    {
     "name": "stderr",
     "output_type": "stream",
     "text": [
      "I0422 18:25:42.099450 4551058880 monitored_session.py:222] Graph was finalized.\n"
     ]
    },
    {
     "name": "stdout",
     "output_type": "stream",
     "text": [
      "INFO:tensorflow:Restoring parameters from /var/folders/y9/7kjb4fj50lngbqcff3_4y4n40000gn/T/tmpppjvytb2/model.ckpt-1000\n"
     ]
    },
    {
     "name": "stderr",
     "output_type": "stream",
     "text": [
      "I0422 18:25:42.106795 4551058880 saver.py:1270] Restoring parameters from /var/folders/y9/7kjb4fj50lngbqcff3_4y4n40000gn/T/tmpppjvytb2/model.ckpt-1000\n"
     ]
    },
    {
     "name": "stdout",
     "output_type": "stream",
     "text": [
      "INFO:tensorflow:Running local_init_op.\n"
     ]
    },
    {
     "name": "stderr",
     "output_type": "stream",
     "text": [
      "I0422 18:25:42.256154 4551058880 session_manager.py:491] Running local_init_op.\n"
     ]
    },
    {
     "name": "stdout",
     "output_type": "stream",
     "text": [
      "INFO:tensorflow:Done running local_init_op.\n"
     ]
    },
    {
     "name": "stderr",
     "output_type": "stream",
     "text": [
      "I0422 18:25:42.307435 4551058880 session_manager.py:493] Done running local_init_op.\n"
     ]
    },
    {
     "name": "stdout",
     "output_type": "stream",
     "text": [
      "INFO:tensorflow:Finished evaluation at 2020-04-22-09:25:43\n"
     ]
    },
    {
     "name": "stderr",
     "output_type": "stream",
     "text": [
      "I0422 18:25:43.265005 4551058880 evaluation.py:277] Finished evaluation at 2020-04-22-09:25:43\n"
     ]
    },
    {
     "name": "stdout",
     "output_type": "stream",
     "text": [
      "INFO:tensorflow:Saving dict for global step 1000: accuracy = 0.51872146, accuracy_baseline = 0.51141554, auc = 0.5891489, auc_precision_recall = 0.58528584, average_loss = 0.7144591, global_step = 1000, label/mean = 0.51141554, loss = 86.925865, precision = 0.6666667, prediction/mean = 0.38488454, recall = 0.11785714\n"
     ]
    },
    {
     "name": "stderr",
     "output_type": "stream",
     "text": [
      "I0422 18:25:43.266143 4551058880 estimator.py:1979] Saving dict for global step 1000: accuracy = 0.51872146, accuracy_baseline = 0.51141554, auc = 0.5891489, auc_precision_recall = 0.58528584, average_loss = 0.7144591, global_step = 1000, label/mean = 0.51141554, loss = 86.925865, precision = 0.6666667, prediction/mean = 0.38488454, recall = 0.11785714\n"
     ]
    },
    {
     "name": "stdout",
     "output_type": "stream",
     "text": [
      "INFO:tensorflow:Saving 'checkpoint_path' summary for global step 1000: /var/folders/y9/7kjb4fj50lngbqcff3_4y4n40000gn/T/tmpppjvytb2/model.ckpt-1000\n"
     ]
    },
    {
     "name": "stderr",
     "output_type": "stream",
     "text": [
      "I0422 18:25:43.269931 4551058880 estimator.py:2039] Saving 'checkpoint_path' summary for global step 1000: /var/folders/y9/7kjb4fj50lngbqcff3_4y4n40000gn/T/tmpppjvytb2/model.ckpt-1000\n"
     ]
    },
    {
     "name": "stdout",
     "output_type": "stream",
     "text": [
      "Train4ing set accuracy: 0.5061479806900024\n",
      "Test set accuracy: 0.5187214612960815\n"
     ]
    }
   ],
   "source": [
    "# evaluate and display results\n",
    "\n",
    "train_eval_result = estimator.evaluate(input_fn=predict_train_input_fn)\n",
    "test_eval_result = estimator.evaluate(input_fn=predict_test_input_fn)\n",
    "\n",
    "print(\"Train4ing set accuracy: {accuracy}\".format(**train_eval_result))\n",
    "print(\"Test set accuracy: {accuracy}\".format(**test_eval_result))"
   ]
  },
  {
   "cell_type": "code",
   "execution_count": 56,
   "metadata": {},
   "outputs": [],
   "source": [
    "# https://www.tensorflow.org/hub/tutorials/text_classification_with_tf_hub"
   ]
  }
 ],
 "metadata": {
  "kernelspec": {
   "display_name": "Python 3",
   "language": "python",
   "name": "python3"
  },
  "language_info": {
   "codemirror_mode": {
    "name": "ipython",
    "version": 3
   },
   "file_extension": ".py",
   "mimetype": "text/x-python",
   "name": "python",
   "nbconvert_exporter": "python",
   "pygments_lexer": "ipython3",
   "version": "3.7.1"
  }
 },
 "nbformat": 4,
 "nbformat_minor": 2
}
