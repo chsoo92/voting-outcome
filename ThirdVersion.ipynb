{
 "cells": [
  {
   "cell_type": "code",
   "execution_count": 1,
   "metadata": {},
   "outputs": [],
   "source": [
    "\n",
    "import math\n",
    "import numpy as np\n"
   ]
  },
  {
   "cell_type": "code",
   "execution_count": 2,
   "metadata": {},
   "outputs": [],
   "source": [
    "import csv\n",
    "\n",
    "with open('train2016.csv', mode='r') as csv_file:\n",
    "    csv_reader = csv.DictReader(csv_file)\n",
    "    noTrainingExamples = 5568 # number of items in csv...  \n",
    "    noColumns = 108 # how many columns will we store... \n",
    "    line_count = 0\n",
    "    outputs = np.zeros(noTrainingExamples)\n",
    "    matrices = np.zeros((noTrainingExamples, noColumns))\n",
    "    columnNames = np.empty([1,noColumns], dtype=object)\n",
    "    userIDs = np.empty([1,noTrainingExamples])\n",
    "    for row in csv_reader:\n",
    "            \n",
    "        matrix = np.zeros(noColumns)\n",
    "#             matrix[0] = float(row['YOB'])\n",
    "        userIDs[0,line_count] = row['USER_ID']\n",
    "        # YOB\n",
    "        columnNames[0,0] = 'YOB'\n",
    "        maxv = 0\n",
    "        try:\n",
    "            matrix[0] = (((float(row['YOB'])%1900)/100)-0.5)\n",
    "        except ValueError:\n",
    "            matrix[0] = 0\n",
    "        \n",
    "        # GENDER\n",
    "        columnNames[0,1] = 'Gender'\n",
    "        if 'Male' in row['Gender']:\n",
    "            matrix[1] = 1\n",
    "        elif 'Female' in row['Gender']:\n",
    "            matrix[1] = -1\n",
    "        else:\n",
    "            matrix[1] = 0\n",
    "        \n",
    "        #  [1 0.6 0.2 -0.2 -0.6]\n",
    "        #INCOME\n",
    "        columnNames[0,2] = 'Income'\n",
    "        if 'over $150,000' in row['Income']:\n",
    "            matrix[2] = 1\n",
    "        elif '$100,001 - $150,000' in row['Income']:\n",
    "            matrix[2] = 0.6\n",
    "        elif '$75,000 - $100,000' in row['Income']:\n",
    "            matrix[2] = 0.2\n",
    "        elif '$50,000 - $74,999' in row['Income']:\n",
    "            matrix[2] = -0.2\n",
    "        elif '$25,001 - $50,000' in row['Income']:\n",
    "            matrix[2] = -0.6\n",
    "        elif 'under $25,000' in row['Income']:\n",
    "            matrix[2] = - 1\n",
    "        else:\n",
    "            matrix[2] = 0\n",
    "        #[1 0.5 0.1]\n",
    "        # HOUSEHOLD\n",
    "        columnNames[0,3] = 'HouseholdStatus'\n",
    "        if 'Married' in row['HouseholdStatus']:\n",
    "            matrix[3] = 1\n",
    "        elif 'Domestic' in row['HouseholdStatus']:\n",
    "            matrix[3] = 0.5\n",
    "        elif 'Single' in row['HouseholdStatus']:\n",
    "            matrix[3] = -1\n",
    "        else:\n",
    "            matrix[3] = 0\n",
    "        \n",
    "        # HAS KIDS OR NOT\n",
    "        columnNames[0,4] = 'Kids'\n",
    "        if 'w/' in row['HouseholdStatus']:\n",
    "            matrix[4] = 1\n",
    "        elif 'no' in row['HouseholdStatus']:\n",
    "            matrix[4] = -1\n",
    "        else:\n",
    "            matrix[4] = 0\n",
    "            \n",
    "        #[1 0.9 0.7 0.6 0.5 0.25 0.1]\n",
    "        # EDUCATION\n",
    "        columnNames[0,5] = 'EducationLevel'\n",
    "        if 'Doctoral' in row['EducationLevel']:\n",
    "            matrix[5] = 1\n",
    "        elif 'Master' in row['EducationLevel']:\n",
    "            matrix[5] = 0.8\n",
    "        elif 'Bachelor' in row['EducationLevel']:\n",
    "            matrix[5] = 0.6\n",
    "        elif 'Undergraduate' in row['EducationLevel']:\n",
    "            matrix[5] = 0.5\n",
    "        elif 'Associate' in row['EducationLevel']:\n",
    "            matrix[5] = 0.3\n",
    "        elif 'High School Diploma' in row['EducationLevel']:\n",
    "            matrix[5] = -0.25\n",
    "        elif 'K-12' in row['EducationLevel']:\n",
    "            matrix[5] = -1\n",
    "        else:\n",
    "            matrix[5] = 0\n",
    "        \n",
    "        \n",
    "        \n",
    "            \n",
    "            \n",
    "#         print(row['YOB'])\n",
    "#         if \"w/kids\" in row['HouseholdStatus']:\n",
    "#             print(\"HEY!!!\")\n",
    "\n",
    "        nextIndex = 6\n",
    "        for col in row:\n",
    "            if col in ['USER_ID', 'YOB', 'Gender', 'Income', 'HouseholdStatus', 'EducationLevel','Party']:\n",
    "                continue\n",
    "            if row[col] in ['Yes', 'Check!', 'Optimist', 'Mom', 'Rent', 'Yay people!', 'Online', 'Yes!', 'Socialize', 'Cautious', 'Mac', 'Supportive', 'Tunes', 'People', 'TMI', 'Start', 'Circumstances', 'A.M.', 'Happy', 'Hot headed', 'Standard hours', 'Idealist', 'Giving', 'Study first', 'Science', 'Public']:\n",
    "                matrix[nextIndex] = 1\n",
    "            elif row[col] in ['No', 'Only-child', 'Nope', 'Pessimist', 'Dad', 'Own', 'Grrr people', 'In-person', 'Umm...', 'Space', 'Risk-friendly', 'PC', 'Demanding', 'Talk', 'Technology', 'Mysterious', 'End', 'Me', 'P.M.', 'Right', 'Cool headed', 'Odd hours', 'Pragmatist', 'Receiving', 'Try first', 'Art', 'Private']:\n",
    "                matrix[nextIndex] = -1\n",
    "            else:\n",
    "                matrix[nextIndex] = 0\n",
    "            columnNames[0,nextIndex] = col\n",
    "            nextIndex += 1\n",
    "            \n",
    "        try:\n",
    "            partyAff = row['Party']\n",
    "            columnNames[0,nextIndex] = 'Party'\n",
    "            if 'Dem' in row['Party']:\n",
    "                matrix[nextIndex] = 1\n",
    "                outputs[line_count] = 1\n",
    "            elif 'Rep' in row['Party']:\n",
    "                matrix[nextIndex] = 0\n",
    "                outputs[line_count] = 0\n",
    "            else:\n",
    "                matrix[nextIndex] = -1\n",
    "                outputs[line_count] = -1\n",
    "        except:\n",
    "            matrix[nextIndex] = -1\n",
    "        \n",
    "        \n",
    "    \n",
    "        matrices[line_count,:] = matrix\n",
    "        line_count +=1\n",
    "        if line_count >= noTrainingExamples:\n",
    "            break\n",
    "        \n",
    "    \n"
   ]
  },
  {
   "cell_type": "code",
   "execution_count": 3,
   "metadata": {},
   "outputs": [],
   "source": [
    "#print(matrix)"
   ]
  },
  {
   "cell_type": "code",
   "execution_count": null,
   "metadata": {},
   "outputs": [],
   "source": []
  },
  {
   "cell_type": "code",
   "execution_count": null,
   "metadata": {},
   "outputs": [],
   "source": []
  },
  {
   "cell_type": "code",
   "execution_count": null,
   "metadata": {},
   "outputs": [],
   "source": []
  },
  {
   "cell_type": "code",
   "execution_count": 4,
   "metadata": {},
   "outputs": [
    {
     "name": "stdout",
     "output_type": "stream",
     "text": [
      "    YOB  Gender  Income  HouseholdStatus  Kids  EducationLevel  Q124742  \\\n",
      "0 -0.12     1.0     0.0              1.0   1.0            0.00     -1.0   \n",
      "1  0.20    -1.0     1.0              0.5   1.0            0.60      0.0   \n",
      "2  0.47     1.0     0.2             -1.0  -1.0           -0.25      0.0   \n",
      "3  0.33     1.0     0.6              1.0   1.0            0.60     -1.0   \n",
      "4  0.34    -1.0    -0.2              1.0   1.0           -0.25     -1.0   \n",
      "\n",
      "   Q124122  Q123464  Q123621  ...    Q99716  Q99581  Q99480  Q98869  Q98578  \\\n",
      "0      0.0     -1.0     -1.0  ...      -1.0    -1.0     0.0    -1.0     0.0   \n",
      "1      1.0     -1.0     -1.0  ...       0.0     0.0    -1.0    -1.0    -1.0   \n",
      "2      1.0      1.0     -1.0  ...      -1.0    -1.0    -1.0     1.0    -1.0   \n",
      "3      1.0     -1.0      1.0  ...      -1.0    -1.0     1.0     1.0    -1.0   \n",
      "4      1.0     -1.0     -1.0  ...      -1.0    -1.0     1.0    -1.0    -1.0   \n",
      "\n",
      "   Q98059  Q98078  Q98197  Q96024  Party  \n",
      "0    -1.0    -1.0    -1.0     1.0    1.0  \n",
      "1    -1.0     1.0    -1.0    -1.0    1.0  \n",
      "2     1.0    -1.0     1.0    -1.0    0.0  \n",
      "3     1.0    -1.0    -1.0     1.0    1.0  \n",
      "4     1.0    -1.0    -1.0     1.0    0.0  \n",
      "\n",
      "[5 rows x 108 columns]\n"
     ]
    }
   ],
   "source": [
    "import pandas as pd\n",
    "data = pd.DataFrame(data=matrices,\n",
    "                   columns=columnNames[0,:])\n",
    "#data.to_csv('rawinput.csv', header=False,index=False)\n",
    "#csv = pd.read_csv(\"pca2.csv\").values\n",
    "\n",
    "#data = pd.DataFrame(data=csv,columns=columnNames[0,:])\n",
    "#data = data[data.YOB !=0]\n",
    "#data = data[data.Gender!=0]\n",
    "#data = data[data.HouseholdStatus !=0]\n",
    "#data = data[data.Kids !=0]\n",
    "#data = data[data.EducationLevel<0]\n",
    "print(data.head())"
   ]
  },
  {
   "cell_type": "code",
   "execution_count": 5,
   "metadata": {},
   "outputs": [
    {
     "name": "stdout",
     "output_type": "stream",
     "text": [
      "    YOB  Gender  Income  HouseholdStatus  Kids  EducationLevel  Q124742  \\\n",
      "0 -0.12     1.0     0.0              1.0   1.0            0.00     -1.0   \n",
      "1  0.20    -1.0     1.0              0.5   1.0            0.60      0.0   \n",
      "2  0.47     1.0     0.2             -1.0  -1.0           -0.25      0.0   \n",
      "3  0.33     1.0     0.6              1.0   1.0            0.60     -1.0   \n",
      "4  0.34    -1.0    -0.2              1.0   1.0           -0.25     -1.0   \n",
      "\n",
      "   Q124122  Q123464  Q123621  ...    Q99716  Q99581  Q99480  Q98869  Q98578  \\\n",
      "0      0.0     -1.0     -1.0  ...      -1.0    -1.0     0.0    -1.0     0.0   \n",
      "1      1.0     -1.0     -1.0  ...       0.0     0.0    -1.0    -1.0    -1.0   \n",
      "2      1.0      1.0     -1.0  ...      -1.0    -1.0    -1.0     1.0    -1.0   \n",
      "3      1.0     -1.0      1.0  ...      -1.0    -1.0     1.0     1.0    -1.0   \n",
      "4      1.0     -1.0     -1.0  ...      -1.0    -1.0     1.0    -1.0    -1.0   \n",
      "\n",
      "   Q98059  Q98078  Q98197  Q96024  Party  \n",
      "0    -1.0    -1.0    -1.0     1.0    1.0  \n",
      "1    -1.0     1.0    -1.0    -1.0    1.0  \n",
      "2     1.0    -1.0     1.0    -1.0    0.0  \n",
      "3     1.0    -1.0    -1.0     1.0    1.0  \n",
      "4     1.0    -1.0    -1.0     1.0    0.0  \n",
      "\n",
      "[5 rows x 108 columns]\n"
     ]
    }
   ],
   "source": [
    "#data = data.loc[data['Q115611'] == -1]\n",
    "print(data.head())"
   ]
  },
  {
   "cell_type": "code",
   "execution_count": 6,
   "metadata": {},
   "outputs": [],
   "source": [
    "# import matplotlib.pyplot as plt\n",
    "# # import tensorflow as tf\n",
    "# %matplotlib inline\n",
    "# # import os\n",
    "# # os.environ[\"CUDA_VISIBLE_DEVICES\"]=\"0\" #for training on gpu"
   ]
  },
  {
   "cell_type": "code",
   "execution_count": 7,
   "metadata": {},
   "outputs": [
    {
     "name": "stdout",
     "output_type": "stream",
     "text": [
      "(5568, 108)\n"
     ]
    }
   ],
   "source": [
    "print(data.shape)"
   ]
  },
  {
   "cell_type": "code",
   "execution_count": 8,
   "metadata": {},
   "outputs": [],
   "source": [
    "import pandas\n",
    "\n",
    "X = data.drop('Party', axis=1)\n",
    "y = data['Party']\n"
   ]
  },
  {
   "cell_type": "code",
   "execution_count": 9,
   "metadata": {},
   "outputs": [
    {
     "name": "stderr",
     "output_type": "stream",
     "text": [
      "WARNING: Logging before flag parsing goes to stderr.\n",
      "W0322 14:46:39.471721 4365243840 __init__.py:56] Some hub symbols are not available because TensorFlow version is less than 1.14\n"
     ]
    }
   ],
   "source": [
    "import tensorflow as tf\n",
    "import tensorflow_hub as hub\n",
    "import matplotlib.pyplot as plt\n",
    "# import numpy as np\n",
    "import os\n",
    "# import pandas as pd\n",
    "import re\n",
    "import seaborn as sns"
   ]
  },
  {
   "cell_type": "code",
   "execution_count": 10,
   "metadata": {},
   "outputs": [
    {
     "name": "stdout",
     "output_type": "stream",
     "text": [
      "4456\n",
      "1112\n"
     ]
    }
   ],
   "source": [
    "\n",
    "#0.8 or 0.33\n",
    "msk = np.random.rand(len(data)) < 0.8\n",
    "train_data = data[msk]\n",
    "#train_data = data\n",
    "#test_data = data\n",
    "test_data = data[~msk]\n",
    "#print(len(train_data))\n",
    "#print(len(test_data))\n",
    "\n",
    "#for s in columnNames1[0,:]:\n",
    "#    train_data = train_data.loc[train_data[s] != 0]\n",
    "#test_data = data.loc[data['Q110740'] > -1]\n",
    "\n",
    "#train_data = data.loc[data['Q115611'] == -1]\n",
    "#test_data = data.loc[data['Q115611'] > -1]\n",
    "print(len(train_data))\n",
    "print(len(test_data))\n",
    "\n",
    "# Training input on the whole training set with no limit on training epochs.\n",
    "train_input_fn = tf.estimator.inputs.pandas_input_fn(\n",
    "    train_data, train_data[\"Party\"], num_epochs=None, shuffle=True)\n",
    "\n",
    "# Prediction on the whole training set.\n",
    "predict_train_input_fn = tf.estimator.inputs.pandas_input_fn(\n",
    "    train_data, train_data[\"Party\"], shuffle=False)\n",
    "# Prediction on the test set.\n",
    "predict_test_input_fn = tf.estimator.inputs.pandas_input_fn(\n",
    "    test_data, test_data[\"Party\"], shuffle=False)"
   ]
  },
  {
   "cell_type": "code",
   "execution_count": null,
   "metadata": {},
   "outputs": [],
   "source": []
  },
  {
   "cell_type": "code",
   "execution_count": 11,
   "metadata": {},
   "outputs": [],
   "source": [
    "X = data.drop('Party', axis=1)\n",
    "y = data['Party']\n",
    "from sklearn.model_selection import train_test_split\n",
    "X_train, X_test, y_train, y_test = train_test_split(X,y,test_size = 0.20)"
   ]
  },
  {
   "cell_type": "code",
   "execution_count": null,
   "metadata": {},
   "outputs": [],
   "source": []
  },
  {
   "cell_type": "code",
   "execution_count": 12,
   "metadata": {},
   "outputs": [
    {
     "name": "stdout",
     "output_type": "stream",
     "text": [
      "INFO:tensorflow:Using default config.\n"
     ]
    },
    {
     "name": "stderr",
     "output_type": "stream",
     "text": [
      "I0322 14:46:40.885659 4365243840 estimator.py:1739] Using default config.\n"
     ]
    },
    {
     "name": "stdout",
     "output_type": "stream",
     "text": [
      "WARNING:tensorflow:Using temporary folder as model directory: /var/folders/y9/7kjb4fj50lngbqcff3_4y4n40000gn/T/tmp58rdc1ek\n"
     ]
    },
    {
     "name": "stderr",
     "output_type": "stream",
     "text": [
      "W0322 14:46:40.892437 4365243840 estimator.py:1760] Using temporary folder as model directory: /var/folders/y9/7kjb4fj50lngbqcff3_4y4n40000gn/T/tmp58rdc1ek\n"
     ]
    },
    {
     "name": "stdout",
     "output_type": "stream",
     "text": [
      "INFO:tensorflow:Using config: {'_model_dir': '/var/folders/y9/7kjb4fj50lngbqcff3_4y4n40000gn/T/tmp58rdc1ek', '_tf_random_seed': None, '_save_summary_steps': 100, '_save_checkpoints_steps': None, '_save_checkpoints_secs': 600, '_session_config': allow_soft_placement: true\n",
      "graph_options {\n",
      "  rewrite_options {\n",
      "    meta_optimizer_iterations: ONE\n",
      "  }\n",
      "}\n",
      ", '_keep_checkpoint_max': 5, '_keep_checkpoint_every_n_hours': 10000, '_log_step_count_steps': 100, '_train_distribute': None, '_device_fn': None, '_protocol': None, '_eval_distribute': None, '_experimental_distribute': None, '_service': None, '_cluster_spec': <tensorflow.python.training.server_lib.ClusterSpec object at 0x1a27995c50>, '_task_type': 'worker', '_task_id': 0, '_global_id_in_cluster': 0, '_master': '', '_evaluation_master': '', '_is_chief': True, '_num_ps_replicas': 0, '_num_worker_replicas': 1}\n"
     ]
    },
    {
     "name": "stderr",
     "output_type": "stream",
     "text": [
      "I0322 14:46:40.896103 4365243840 estimator.py:201] Using config: {'_model_dir': '/var/folders/y9/7kjb4fj50lngbqcff3_4y4n40000gn/T/tmp58rdc1ek', '_tf_random_seed': None, '_save_summary_steps': 100, '_save_checkpoints_steps': None, '_save_checkpoints_secs': 600, '_session_config': allow_soft_placement: true\n",
      "graph_options {\n",
      "  rewrite_options {\n",
      "    meta_optimizer_iterations: ONE\n",
      "  }\n",
      "}\n",
      ", '_keep_checkpoint_max': 5, '_keep_checkpoint_every_n_hours': 10000, '_log_step_count_steps': 100, '_train_distribute': None, '_device_fn': None, '_protocol': None, '_eval_distribute': None, '_experimental_distribute': None, '_service': None, '_cluster_spec': <tensorflow.python.training.server_lib.ClusterSpec object at 0x1a27995c50>, '_task_type': 'worker', '_task_id': 0, '_global_id_in_cluster': 0, '_master': '', '_evaluation_master': '', '_is_chief': True, '_num_ps_replicas': 0, '_num_worker_replicas': 1}\n"
     ]
    }
   ],
   "source": [
    "feature_columns = [tf.feature_column.numeric_column(key = key) for key in X_train.columns]\n",
    "#estimator = tf.estimator.DNNClassifier(\n",
    " #               hidden_units=[50,25,25],\n",
    "  #              feature_columns=feature_columns,\n",
    "   #             n_classes=2,\n",
    "    #            optimizer=tf.train.AdagradOptimizer(learning_rate=0.003))\n",
    "\n",
    "#estimator = tf.estimator.DNNClassifier(\n",
    " #               hidden_units=[50,50,25],\n",
    "  #              feature_columns=feature_columns,\n",
    "   #             n_classes=2,\n",
    "    #            optimizer=tf.train.ProximalAdagradOptimizer(\n",
    "     # learning_rate=0.003,\n",
    "     # l1_regularization_strength=0.01\n",
    "    #))\n",
    "    \n",
    "    #60 60 60/ 0.05\n",
    "    # 50 50 25 l2_regularization_strength=0.001\n",
    "estimator = tf.estimator.DNNClassifier(\n",
    "               hidden_units=[50,50,25],\n",
    "               feature_columns=feature_columns,\n",
    "               n_classes=2,\n",
    "                optimizer=tf.train.ProximalAdagradOptimizer(\n",
    "     learning_rate=0.003, l2_regularization_strength=0.001\n",
    "    ))"
   ]
  },
  {
   "cell_type": "code",
   "execution_count": 13,
   "metadata": {},
   "outputs": [
    {
     "name": "stdout",
     "output_type": "stream",
     "text": [
      "<tensorflow_estimator.python.estimator.canned.dnn.DNNClassifier object at 0x1a279959e8>\n"
     ]
    }
   ],
   "source": [
    "print(estimator)"
   ]
  },
  {
   "cell_type": "code",
   "execution_count": 14,
   "metadata": {},
   "outputs": [
    {
     "name": "stdout",
     "output_type": "stream",
     "text": [
      "WARNING:tensorflow:From /Users/suhwanchoi/anaconda3/lib/python3.7/site-packages/tensorflow/python/framework/op_def_library.py:263: colocate_with (from tensorflow.python.framework.ops) is deprecated and will be removed in a future version.\n",
      "Instructions for updating:\n",
      "Colocations handled automatically by placer.\n"
     ]
    },
    {
     "name": "stderr",
     "output_type": "stream",
     "text": [
      "W0322 14:46:40.938656 4365243840 deprecation.py:323] From /Users/suhwanchoi/anaconda3/lib/python3.7/site-packages/tensorflow/python/framework/op_def_library.py:263: colocate_with (from tensorflow.python.framework.ops) is deprecated and will be removed in a future version.\n",
      "Instructions for updating:\n",
      "Colocations handled automatically by placer.\n"
     ]
    },
    {
     "name": "stdout",
     "output_type": "stream",
     "text": [
      "WARNING:tensorflow:From /Users/suhwanchoi/anaconda3/lib/python3.7/site-packages/tensorflow_estimator/python/estimator/inputs/queues/feeding_queue_runner.py:62: QueueRunner.__init__ (from tensorflow.python.training.queue_runner_impl) is deprecated and will be removed in a future version.\n",
      "Instructions for updating:\n",
      "To construct input pipelines, use the `tf.data` module.\n"
     ]
    },
    {
     "name": "stderr",
     "output_type": "stream",
     "text": [
      "W0322 14:46:41.082720 4365243840 deprecation.py:323] From /Users/suhwanchoi/anaconda3/lib/python3.7/site-packages/tensorflow_estimator/python/estimator/inputs/queues/feeding_queue_runner.py:62: QueueRunner.__init__ (from tensorflow.python.training.queue_runner_impl) is deprecated and will be removed in a future version.\n",
      "Instructions for updating:\n",
      "To construct input pipelines, use the `tf.data` module.\n"
     ]
    },
    {
     "name": "stdout",
     "output_type": "stream",
     "text": [
      "WARNING:tensorflow:From /Users/suhwanchoi/anaconda3/lib/python3.7/site-packages/tensorflow_estimator/python/estimator/inputs/queues/feeding_functions.py:500: add_queue_runner (from tensorflow.python.training.queue_runner_impl) is deprecated and will be removed in a future version.\n",
      "Instructions for updating:\n",
      "To construct input pipelines, use the `tf.data` module.\n"
     ]
    },
    {
     "name": "stderr",
     "output_type": "stream",
     "text": [
      "W0322 14:46:41.086987 4365243840 deprecation.py:323] From /Users/suhwanchoi/anaconda3/lib/python3.7/site-packages/tensorflow_estimator/python/estimator/inputs/queues/feeding_functions.py:500: add_queue_runner (from tensorflow.python.training.queue_runner_impl) is deprecated and will be removed in a future version.\n",
      "Instructions for updating:\n",
      "To construct input pipelines, use the `tf.data` module.\n"
     ]
    },
    {
     "name": "stdout",
     "output_type": "stream",
     "text": [
      "INFO:tensorflow:Calling model_fn.\n"
     ]
    },
    {
     "name": "stderr",
     "output_type": "stream",
     "text": [
      "I0322 14:46:41.101470 4365243840 estimator.py:1111] Calling model_fn.\n"
     ]
    },
    {
     "name": "stdout",
     "output_type": "stream",
     "text": [
      "WARNING:tensorflow:From /Users/suhwanchoi/anaconda3/lib/python3.7/site-packages/tensorflow/python/feature_column/feature_column_v2.py:2703: to_float (from tensorflow.python.ops.math_ops) is deprecated and will be removed in a future version.\n",
      "Instructions for updating:\n",
      "Use tf.cast instead.\n"
     ]
    },
    {
     "name": "stderr",
     "output_type": "stream",
     "text": [
      "W0322 14:46:41.118785 4365243840 deprecation.py:323] From /Users/suhwanchoi/anaconda3/lib/python3.7/site-packages/tensorflow/python/feature_column/feature_column_v2.py:2703: to_float (from tensorflow.python.ops.math_ops) is deprecated and will be removed in a future version.\n",
      "Instructions for updating:\n",
      "Use tf.cast instead.\n"
     ]
    },
    {
     "name": "stdout",
     "output_type": "stream",
     "text": [
      "INFO:tensorflow:Done calling model_fn.\n"
     ]
    },
    {
     "name": "stderr",
     "output_type": "stream",
     "text": [
      "I0322 14:46:42.149348 4365243840 estimator.py:1113] Done calling model_fn.\n"
     ]
    },
    {
     "name": "stdout",
     "output_type": "stream",
     "text": [
      "INFO:tensorflow:Create CheckpointSaverHook.\n"
     ]
    },
    {
     "name": "stderr",
     "output_type": "stream",
     "text": [
      "I0322 14:46:42.150714 4365243840 basic_session_run_hooks.py:527] Create CheckpointSaverHook.\n"
     ]
    },
    {
     "name": "stdout",
     "output_type": "stream",
     "text": [
      "INFO:tensorflow:Graph was finalized.\n"
     ]
    },
    {
     "name": "stderr",
     "output_type": "stream",
     "text": [
      "I0322 14:46:42.488214 4365243840 monitored_session.py:222] Graph was finalized.\n"
     ]
    },
    {
     "name": "stdout",
     "output_type": "stream",
     "text": [
      "INFO:tensorflow:Running local_init_op.\n"
     ]
    },
    {
     "name": "stderr",
     "output_type": "stream",
     "text": [
      "I0322 14:46:42.590402 4365243840 session_manager.py:491] Running local_init_op.\n"
     ]
    },
    {
     "name": "stdout",
     "output_type": "stream",
     "text": [
      "INFO:tensorflow:Done running local_init_op.\n"
     ]
    },
    {
     "name": "stderr",
     "output_type": "stream",
     "text": [
      "I0322 14:46:42.614795 4365243840 session_manager.py:493] Done running local_init_op.\n"
     ]
    },
    {
     "name": "stdout",
     "output_type": "stream",
     "text": [
      "WARNING:tensorflow:From /Users/suhwanchoi/anaconda3/lib/python3.7/site-packages/tensorflow/python/training/monitored_session.py:809: start_queue_runners (from tensorflow.python.training.queue_runner_impl) is deprecated and will be removed in a future version.\n",
      "Instructions for updating:\n",
      "To construct input pipelines, use the `tf.data` module.\n"
     ]
    },
    {
     "name": "stderr",
     "output_type": "stream",
     "text": [
      "W0322 14:46:42.649348 4365243840 deprecation.py:323] From /Users/suhwanchoi/anaconda3/lib/python3.7/site-packages/tensorflow/python/training/monitored_session.py:809: start_queue_runners (from tensorflow.python.training.queue_runner_impl) is deprecated and will be removed in a future version.\n",
      "Instructions for updating:\n",
      "To construct input pipelines, use the `tf.data` module.\n"
     ]
    },
    {
     "name": "stdout",
     "output_type": "stream",
     "text": [
      "INFO:tensorflow:Saving checkpoints for 0 into /var/folders/y9/7kjb4fj50lngbqcff3_4y4n40000gn/T/tmp58rdc1ek/model.ckpt.\n"
     ]
    },
    {
     "name": "stderr",
     "output_type": "stream",
     "text": [
      "I0322 14:46:43.431783 4365243840 basic_session_run_hooks.py:594] Saving checkpoints for 0 into /var/folders/y9/7kjb4fj50lngbqcff3_4y4n40000gn/T/tmp58rdc1ek/model.ckpt.\n"
     ]
    },
    {
     "name": "stdout",
     "output_type": "stream",
     "text": [
      "INFO:tensorflow:loss = 91.46983, step = 1\n"
     ]
    },
    {
     "name": "stderr",
     "output_type": "stream",
     "text": [
      "I0322 14:46:43.880535 4365243840 basic_session_run_hooks.py:249] loss = 91.46983, step = 1\n"
     ]
    },
    {
     "name": "stdout",
     "output_type": "stream",
     "text": [
      "INFO:tensorflow:global_step/sec: 64.7228\n"
     ]
    },
    {
     "name": "stderr",
     "output_type": "stream",
     "text": [
      "I0322 14:46:45.425306 4365243840 basic_session_run_hooks.py:680] global_step/sec: 64.7228\n"
     ]
    },
    {
     "name": "stdout",
     "output_type": "stream",
     "text": [
      "INFO:tensorflow:loss = 84.64111, step = 101 (1.547 sec)\n"
     ]
    },
    {
     "name": "stderr",
     "output_type": "stream",
     "text": [
      "I0322 14:46:45.427326 4365243840 basic_session_run_hooks.py:247] loss = 84.64111, step = 101 (1.547 sec)\n"
     ]
    },
    {
     "name": "stdout",
     "output_type": "stream",
     "text": [
      "INFO:tensorflow:global_step/sec: 60.5426\n"
     ]
    },
    {
     "name": "stderr",
     "output_type": "stream",
     "text": [
      "I0322 14:46:47.077030 4365243840 basic_session_run_hooks.py:680] global_step/sec: 60.5426\n"
     ]
    },
    {
     "name": "stdout",
     "output_type": "stream",
     "text": [
      "INFO:tensorflow:loss = 77.06268, step = 201 (1.654 sec)\n"
     ]
    },
    {
     "name": "stderr",
     "output_type": "stream",
     "text": [
      "I0322 14:46:47.081476 4365243840 basic_session_run_hooks.py:247] loss = 77.06268, step = 201 (1.654 sec)\n"
     ]
    },
    {
     "name": "stdout",
     "output_type": "stream",
     "text": [
      "INFO:tensorflow:global_step/sec: 53.4723\n"
     ]
    },
    {
     "name": "stderr",
     "output_type": "stream",
     "text": [
      "I0322 14:46:48.947145 4365243840 basic_session_run_hooks.py:680] global_step/sec: 53.4723\n"
     ]
    },
    {
     "name": "stdout",
     "output_type": "stream",
     "text": [
      "INFO:tensorflow:loss = 83.66968, step = 301 (1.869 sec)\n"
     ]
    },
    {
     "name": "stderr",
     "output_type": "stream",
     "text": [
      "I0322 14:46:48.950339 4365243840 basic_session_run_hooks.py:247] loss = 83.66968, step = 301 (1.869 sec)\n"
     ]
    },
    {
     "name": "stdout",
     "output_type": "stream",
     "text": [
      "INFO:tensorflow:global_step/sec: 62.4348\n"
     ]
    },
    {
     "name": "stderr",
     "output_type": "stream",
     "text": [
      "I0322 14:46:50.548821 4365243840 basic_session_run_hooks.py:680] global_step/sec: 62.4348\n"
     ]
    },
    {
     "name": "stdout",
     "output_type": "stream",
     "text": [
      "INFO:tensorflow:loss = 82.18524, step = 401 (1.602 sec)\n"
     ]
    },
    {
     "name": "stderr",
     "output_type": "stream",
     "text": [
      "I0322 14:46:50.551940 4365243840 basic_session_run_hooks.py:247] loss = 82.18524, step = 401 (1.602 sec)\n"
     ]
    },
    {
     "name": "stdout",
     "output_type": "stream",
     "text": [
      "INFO:tensorflow:global_step/sec: 56.0897\n"
     ]
    },
    {
     "name": "stderr",
     "output_type": "stream",
     "text": [
      "I0322 14:46:52.331697 4365243840 basic_session_run_hooks.py:680] global_step/sec: 56.0897\n"
     ]
    },
    {
     "name": "stdout",
     "output_type": "stream",
     "text": [
      "INFO:tensorflow:loss = 76.67961, step = 501 (1.782 sec)\n"
     ]
    },
    {
     "name": "stderr",
     "output_type": "stream",
     "text": [
      "I0322 14:46:52.333753 4365243840 basic_session_run_hooks.py:247] loss = 76.67961, step = 501 (1.782 sec)\n"
     ]
    },
    {
     "name": "stdout",
     "output_type": "stream",
     "text": [
      "INFO:tensorflow:global_step/sec: 64.7423\n"
     ]
    },
    {
     "name": "stderr",
     "output_type": "stream",
     "text": [
      "I0322 14:46:53.876249 4365243840 basic_session_run_hooks.py:680] global_step/sec: 64.7423\n"
     ]
    },
    {
     "name": "stdout",
     "output_type": "stream",
     "text": [
      "INFO:tensorflow:loss = 74.16667, step = 601 (1.545 sec)\n"
     ]
    },
    {
     "name": "stderr",
     "output_type": "stream",
     "text": [
      "I0322 14:46:53.878661 4365243840 basic_session_run_hooks.py:247] loss = 74.16667, step = 601 (1.545 sec)\n"
     ]
    },
    {
     "name": "stdout",
     "output_type": "stream",
     "text": [
      "INFO:tensorflow:global_step/sec: 80.3966\n"
     ]
    },
    {
     "name": "stderr",
     "output_type": "stream",
     "text": [
      "I0322 14:46:55.120095 4365243840 basic_session_run_hooks.py:680] global_step/sec: 80.3966\n"
     ]
    },
    {
     "name": "stdout",
     "output_type": "stream",
     "text": [
      "INFO:tensorflow:loss = 71.567986, step = 701 (1.243 sec)\n"
     ]
    },
    {
     "name": "stderr",
     "output_type": "stream",
     "text": [
      "I0322 14:46:55.122106 4365243840 basic_session_run_hooks.py:247] loss = 71.567986, step = 701 (1.243 sec)\n"
     ]
    },
    {
     "name": "stdout",
     "output_type": "stream",
     "text": [
      "INFO:tensorflow:global_step/sec: 74.9663\n"
     ]
    },
    {
     "name": "stderr",
     "output_type": "stream",
     "text": [
      "I0322 14:46:56.454021 4365243840 basic_session_run_hooks.py:680] global_step/sec: 74.9663\n"
     ]
    },
    {
     "name": "stdout",
     "output_type": "stream",
     "text": [
      "INFO:tensorflow:loss = 75.60112, step = 801 (1.333 sec)\n"
     ]
    },
    {
     "name": "stderr",
     "output_type": "stream",
     "text": [
      "I0322 14:46:56.455553 4365243840 basic_session_run_hooks.py:247] loss = 75.60112, step = 801 (1.333 sec)\n"
     ]
    },
    {
     "name": "stdout",
     "output_type": "stream",
     "text": [
      "INFO:tensorflow:global_step/sec: 71.951\n"
     ]
    },
    {
     "name": "stderr",
     "output_type": "stream",
     "text": [
      "I0322 14:46:57.843858 4365243840 basic_session_run_hooks.py:680] global_step/sec: 71.951\n"
     ]
    },
    {
     "name": "stdout",
     "output_type": "stream",
     "text": [
      "INFO:tensorflow:loss = 71.81258, step = 901 (1.390 sec)\n"
     ]
    },
    {
     "name": "stderr",
     "output_type": "stream",
     "text": [
      "I0322 14:46:57.845775 4365243840 basic_session_run_hooks.py:247] loss = 71.81258, step = 901 (1.390 sec)\n"
     ]
    },
    {
     "name": "stdout",
     "output_type": "stream",
     "text": [
      "INFO:tensorflow:Saving checkpoints for 1000 into /var/folders/y9/7kjb4fj50lngbqcff3_4y4n40000gn/T/tmp58rdc1ek/model.ckpt.\n"
     ]
    },
    {
     "name": "stderr",
     "output_type": "stream",
     "text": [
      "I0322 14:46:59.384322 4365243840 basic_session_run_hooks.py:594] Saving checkpoints for 1000 into /var/folders/y9/7kjb4fj50lngbqcff3_4y4n40000gn/T/tmp58rdc1ek/model.ckpt.\n"
     ]
    },
    {
     "name": "stdout",
     "output_type": "stream",
     "text": [
      "INFO:tensorflow:Loss for final step: 73.26677.\n"
     ]
    },
    {
     "name": "stderr",
     "output_type": "stream",
     "text": [
      "I0322 14:46:59.721218 4365243840 estimator.py:359] Loss for final step: 73.26677.\n"
     ]
    },
    {
     "data": {
      "text/plain": [
       "<tensorflow_estimator.python.estimator.canned.dnn.DNNClassifier at 0x1a279959e8>"
      ]
     },
     "execution_count": 14,
     "metadata": {},
     "output_type": "execute_result"
    }
   ],
   "source": [
    "#int(len(train_data)/3))\n",
    "estimator.train(input_fn=train_input_fn, steps= 1000)"
   ]
  },
  {
   "cell_type": "code",
   "execution_count": 15,
   "metadata": {
    "scrolled": false
   },
   "outputs": [
    {
     "name": "stdout",
     "output_type": "stream",
     "text": [
      "INFO:tensorflow:Calling model_fn.\n"
     ]
    },
    {
     "name": "stderr",
     "output_type": "stream",
     "text": [
      "I0322 14:46:59.811928 4365243840 estimator.py:1111] Calling model_fn.\n"
     ]
    },
    {
     "name": "stdout",
     "output_type": "stream",
     "text": [
      "WARNING:tensorflow:From /Users/suhwanchoi/anaconda3/lib/python3.7/site-packages/tensorflow/python/ops/metrics_impl.py:2002: div (from tensorflow.python.ops.math_ops) is deprecated and will be removed in a future version.\n",
      "Instructions for updating:\n",
      "Deprecated in favor of operator or tf.math.divide.\n"
     ]
    },
    {
     "name": "stderr",
     "output_type": "stream",
     "text": [
      "W0322 14:47:00.988227 4365243840 deprecation.py:323] From /Users/suhwanchoi/anaconda3/lib/python3.7/site-packages/tensorflow/python/ops/metrics_impl.py:2002: div (from tensorflow.python.ops.math_ops) is deprecated and will be removed in a future version.\n",
      "Instructions for updating:\n",
      "Deprecated in favor of operator or tf.math.divide.\n"
     ]
    },
    {
     "name": "stdout",
     "output_type": "stream",
     "text": [
      "WARNING:tensorflow:Trapezoidal rule is known to produce incorrect PR-AUCs; please switch to \"careful_interpolation\" instead.\n"
     ]
    },
    {
     "name": "stderr",
     "output_type": "stream",
     "text": [
      "W0322 14:47:01.382400 4365243840 metrics_impl.py:783] Trapezoidal rule is known to produce incorrect PR-AUCs; please switch to \"careful_interpolation\" instead.\n"
     ]
    },
    {
     "name": "stdout",
     "output_type": "stream",
     "text": [
      "WARNING:tensorflow:Trapezoidal rule is known to produce incorrect PR-AUCs; please switch to \"careful_interpolation\" instead.\n"
     ]
    },
    {
     "name": "stderr",
     "output_type": "stream",
     "text": [
      "W0322 14:47:01.401890 4365243840 metrics_impl.py:783] Trapezoidal rule is known to produce incorrect PR-AUCs; please switch to \"careful_interpolation\" instead.\n"
     ]
    },
    {
     "name": "stdout",
     "output_type": "stream",
     "text": [
      "INFO:tensorflow:Done calling model_fn.\n"
     ]
    },
    {
     "name": "stderr",
     "output_type": "stream",
     "text": [
      "I0322 14:47:01.427685 4365243840 estimator.py:1113] Done calling model_fn.\n"
     ]
    },
    {
     "name": "stdout",
     "output_type": "stream",
     "text": [
      "INFO:tensorflow:Starting evaluation at 2019-03-22T21:47:01Z\n"
     ]
    },
    {
     "name": "stderr",
     "output_type": "stream",
     "text": [
      "I0322 14:47:01.454580 4365243840 evaluation.py:257] Starting evaluation at 2019-03-22T21:47:01Z\n"
     ]
    },
    {
     "name": "stdout",
     "output_type": "stream",
     "text": [
      "INFO:tensorflow:Graph was finalized.\n"
     ]
    },
    {
     "name": "stderr",
     "output_type": "stream",
     "text": [
      "I0322 14:47:01.615817 4365243840 monitored_session.py:222] Graph was finalized.\n"
     ]
    },
    {
     "name": "stdout",
     "output_type": "stream",
     "text": [
      "WARNING:tensorflow:From /Users/suhwanchoi/anaconda3/lib/python3.7/site-packages/tensorflow/python/training/saver.py:1266: checkpoint_exists (from tensorflow.python.training.checkpoint_management) is deprecated and will be removed in a future version.\n",
      "Instructions for updating:\n",
      "Use standard file APIs to check for files with this prefix.\n"
     ]
    },
    {
     "name": "stderr",
     "output_type": "stream",
     "text": [
      "W0322 14:47:01.617836 4365243840 deprecation.py:323] From /Users/suhwanchoi/anaconda3/lib/python3.7/site-packages/tensorflow/python/training/saver.py:1266: checkpoint_exists (from tensorflow.python.training.checkpoint_management) is deprecated and will be removed in a future version.\n",
      "Instructions for updating:\n",
      "Use standard file APIs to check for files with this prefix.\n"
     ]
    },
    {
     "name": "stdout",
     "output_type": "stream",
     "text": [
      "INFO:tensorflow:Restoring parameters from /var/folders/y9/7kjb4fj50lngbqcff3_4y4n40000gn/T/tmp58rdc1ek/model.ckpt-1000\n"
     ]
    },
    {
     "name": "stderr",
     "output_type": "stream",
     "text": [
      "I0322 14:47:01.621883 4365243840 saver.py:1270] Restoring parameters from /var/folders/y9/7kjb4fj50lngbqcff3_4y4n40000gn/T/tmp58rdc1ek/model.ckpt-1000\n"
     ]
    },
    {
     "name": "stdout",
     "output_type": "stream",
     "text": [
      "INFO:tensorflow:Running local_init_op.\n"
     ]
    },
    {
     "name": "stderr",
     "output_type": "stream",
     "text": [
      "I0322 14:47:01.768574 4365243840 session_manager.py:491] Running local_init_op.\n"
     ]
    },
    {
     "name": "stdout",
     "output_type": "stream",
     "text": [
      "INFO:tensorflow:Done running local_init_op.\n"
     ]
    },
    {
     "name": "stderr",
     "output_type": "stream",
     "text": [
      "I0322 14:47:01.812973 4365243840 session_manager.py:493] Done running local_init_op.\n"
     ]
    },
    {
     "name": "stdout",
     "output_type": "stream",
     "text": [
      "INFO:tensorflow:Finished evaluation at 2019-03-22-21:47:02\n"
     ]
    },
    {
     "name": "stderr",
     "output_type": "stream",
     "text": [
      "I0322 14:47:02.981113 4365243840 evaluation.py:277] Finished evaluation at 2019-03-22-21:47:02\n"
     ]
    },
    {
     "name": "stdout",
     "output_type": "stream",
     "text": [
      "INFO:tensorflow:Saving dict for global step 1000: accuracy = 0.70870733, accuracy_baseline = 0.5300718, auc = 0.78721166, auc_precision_recall = 0.8027857, average_loss = 0.5615045, global_step = 1000, label/mean = 0.5300718, loss = 71.48754, precision = 0.7201987, prediction/mean = 0.52826166, recall = 0.7366638\n"
     ]
    },
    {
     "name": "stderr",
     "output_type": "stream",
     "text": [
      "I0322 14:47:02.983471 4365243840 estimator.py:1979] Saving dict for global step 1000: accuracy = 0.70870733, accuracy_baseline = 0.5300718, auc = 0.78721166, auc_precision_recall = 0.8027857, average_loss = 0.5615045, global_step = 1000, label/mean = 0.5300718, loss = 71.48754, precision = 0.7201987, prediction/mean = 0.52826166, recall = 0.7366638\n"
     ]
    },
    {
     "name": "stdout",
     "output_type": "stream",
     "text": [
      "INFO:tensorflow:Saving 'checkpoint_path' summary for global step 1000: /var/folders/y9/7kjb4fj50lngbqcff3_4y4n40000gn/T/tmp58rdc1ek/model.ckpt-1000\n"
     ]
    },
    {
     "name": "stderr",
     "output_type": "stream",
     "text": [
      "I0322 14:47:03.279458 4365243840 estimator.py:2039] Saving 'checkpoint_path' summary for global step 1000: /var/folders/y9/7kjb4fj50lngbqcff3_4y4n40000gn/T/tmp58rdc1ek/model.ckpt-1000\n"
     ]
    },
    {
     "name": "stdout",
     "output_type": "stream",
     "text": [
      "INFO:tensorflow:Calling model_fn.\n"
     ]
    },
    {
     "name": "stderr",
     "output_type": "stream",
     "text": [
      "I0322 14:47:03.341196 4365243840 estimator.py:1111] Calling model_fn.\n"
     ]
    },
    {
     "name": "stdout",
     "output_type": "stream",
     "text": [
      "WARNING:tensorflow:Trapezoidal rule is known to produce incorrect PR-AUCs; please switch to \"careful_interpolation\" instead.\n"
     ]
    },
    {
     "name": "stderr",
     "output_type": "stream",
     "text": [
      "W0322 14:47:04.766315 4365243840 metrics_impl.py:783] Trapezoidal rule is known to produce incorrect PR-AUCs; please switch to \"careful_interpolation\" instead.\n"
     ]
    },
    {
     "name": "stdout",
     "output_type": "stream",
     "text": [
      "WARNING:tensorflow:Trapezoidal rule is known to produce incorrect PR-AUCs; please switch to \"careful_interpolation\" instead.\n"
     ]
    },
    {
     "name": "stderr",
     "output_type": "stream",
     "text": [
      "W0322 14:47:04.787279 4365243840 metrics_impl.py:783] Trapezoidal rule is known to produce incorrect PR-AUCs; please switch to \"careful_interpolation\" instead.\n"
     ]
    },
    {
     "name": "stdout",
     "output_type": "stream",
     "text": [
      "INFO:tensorflow:Done calling model_fn.\n"
     ]
    },
    {
     "name": "stderr",
     "output_type": "stream",
     "text": [
      "I0322 14:47:04.807585 4365243840 estimator.py:1113] Done calling model_fn.\n"
     ]
    },
    {
     "name": "stdout",
     "output_type": "stream",
     "text": [
      "INFO:tensorflow:Starting evaluation at 2019-03-22T21:47:04Z\n"
     ]
    },
    {
     "name": "stderr",
     "output_type": "stream",
     "text": [
      "I0322 14:47:04.826510 4365243840 evaluation.py:257] Starting evaluation at 2019-03-22T21:47:04Z\n"
     ]
    },
    {
     "name": "stdout",
     "output_type": "stream",
     "text": [
      "INFO:tensorflow:Graph was finalized.\n"
     ]
    },
    {
     "name": "stderr",
     "output_type": "stream",
     "text": [
      "I0322 14:47:04.978888 4365243840 monitored_session.py:222] Graph was finalized.\n"
     ]
    },
    {
     "name": "stdout",
     "output_type": "stream",
     "text": [
      "INFO:tensorflow:Restoring parameters from /var/folders/y9/7kjb4fj50lngbqcff3_4y4n40000gn/T/tmp58rdc1ek/model.ckpt-1000\n"
     ]
    },
    {
     "name": "stderr",
     "output_type": "stream",
     "text": [
      "I0322 14:47:04.981549 4365243840 saver.py:1270] Restoring parameters from /var/folders/y9/7kjb4fj50lngbqcff3_4y4n40000gn/T/tmp58rdc1ek/model.ckpt-1000\n"
     ]
    },
    {
     "name": "stdout",
     "output_type": "stream",
     "text": [
      "INFO:tensorflow:Running local_init_op.\n"
     ]
    },
    {
     "name": "stderr",
     "output_type": "stream",
     "text": [
      "I0322 14:47:05.097167 4365243840 session_manager.py:491] Running local_init_op.\n"
     ]
    },
    {
     "name": "stdout",
     "output_type": "stream",
     "text": [
      "INFO:tensorflow:Done running local_init_op.\n"
     ]
    },
    {
     "name": "stderr",
     "output_type": "stream",
     "text": [
      "I0322 14:47:05.176677 4365243840 session_manager.py:493] Done running local_init_op.\n"
     ]
    },
    {
     "name": "stdout",
     "output_type": "stream",
     "text": [
      "INFO:tensorflow:Finished evaluation at 2019-03-22-21:47:06\n"
     ]
    },
    {
     "name": "stderr",
     "output_type": "stream",
     "text": [
      "I0322 14:47:06.125020 4365243840 evaluation.py:277] Finished evaluation at 2019-03-22-21:47:06\n"
     ]
    },
    {
     "name": "stdout",
     "output_type": "stream",
     "text": [
      "INFO:tensorflow:Saving dict for global step 1000: accuracy = 0.6321942, accuracy_baseline = 0.52967626, auc = 0.6829997, auc_precision_recall = 0.6899779, average_loss = 0.64798796, global_step = 1000, label/mean = 0.52967626, loss = 80.062515, precision = 0.6451613, prediction/mean = 0.542342, recall = 0.67911714\n"
     ]
    },
    {
     "name": "stderr",
     "output_type": "stream",
     "text": [
      "I0322 14:47:06.126138 4365243840 estimator.py:1979] Saving dict for global step 1000: accuracy = 0.6321942, accuracy_baseline = 0.52967626, auc = 0.6829997, auc_precision_recall = 0.6899779, average_loss = 0.64798796, global_step = 1000, label/mean = 0.52967626, loss = 80.062515, precision = 0.6451613, prediction/mean = 0.542342, recall = 0.67911714\n"
     ]
    },
    {
     "name": "stdout",
     "output_type": "stream",
     "text": [
      "INFO:tensorflow:Saving 'checkpoint_path' summary for global step 1000: /var/folders/y9/7kjb4fj50lngbqcff3_4y4n40000gn/T/tmp58rdc1ek/model.ckpt-1000\n"
     ]
    },
    {
     "name": "stderr",
     "output_type": "stream",
     "text": [
      "I0322 14:47:06.127655 4365243840 estimator.py:2039] Saving 'checkpoint_path' summary for global step 1000: /var/folders/y9/7kjb4fj50lngbqcff3_4y4n40000gn/T/tmp58rdc1ek/model.ckpt-1000\n"
     ]
    },
    {
     "name": "stdout",
     "output_type": "stream",
     "text": [
      "Training set accuracy: 0.708707332611084\n",
      "Test set accuracy: 0.6321942210197449\n"
     ]
    }
   ],
   "source": [
    "train_eval_result = estimator.evaluate(input_fn=predict_train_input_fn)\n",
    "test_eval_result = estimator.evaluate(input_fn=predict_test_input_fn)\n",
    "\n",
    "print(\"Training set accuracy: {accuracy}\".format(**train_eval_result))\n",
    "print(\"Test set accuracy: {accuracy}\".format(**test_eval_result))"
   ]
  },
  {
   "cell_type": "code",
   "execution_count": 16,
   "metadata": {},
   "outputs": [],
   "source": [
    "# https://www.tensorflow.org/hub/tutorials/text_classification_with_tf_hub"
   ]
  },
  {
   "cell_type": "code",
   "execution_count": 17,
   "metadata": {},
   "outputs": [
    {
     "name": "stdout",
     "output_type": "stream",
     "text": [
      "[[-0.10829788 -0.0763367   0.04038548 ... -0.09124864  0.12032019\n",
      "  -0.0138996 ]\n",
      " [-0.03150859 -0.10404974  0.16288888 ... -0.06220249 -0.05687613\n",
      "  -0.178829  ]\n",
      " [ 0.14046739 -0.13198201  0.13570067 ...  0.00312499  0.10359981\n",
      "   0.01613921]\n",
      " ...\n",
      " [-0.03046499 -0.0878842  -0.08020563 ...  0.10448904 -0.15647252\n",
      "   0.11070175]\n",
      " [ 0.02551681  0.02194989  0.11111156 ... -0.00490842 -0.12230606\n",
      "  -0.09534367]\n",
      " [-0.04188076  0.05479405 -0.04106344 ...  0.06377059  0.1758601\n",
      "  -0.17196938]]\n",
      "[ 0.02687432  0.00854851  0.0109723   0.015019    0.01575651 -0.00247986\n",
      "  0.03580007 -0.00086006  0.01974105 -0.00158954  0.01292743 -0.00019404\n",
      " -0.00627765  0.01508286 -0.00589301  0.02679826  0.00148136  0.05208328\n",
      " -0.00118378  0.0177305   0.00580962 -0.0052753   0.03397269  0.00476061\n",
      "  0.01271083  0.02570768  0.02435078  0.04639416  0.02682269  0.00064604\n",
      " -0.00360865  0.01543226  0.02781444  0.01732616  0.01433938  0.04233132\n",
      "  0.02577107  0.00768838  0.01796649 -0.01690934  0.01923018 -0.01999135\n",
      " -0.01194916 -0.00143552  0.00328474  0.0108778   0.01527793  0.02194742\n",
      " -0.00464224  0.02163118]\n"
     ]
    }
   ],
   "source": [
    "print(estimator.get_variable_value(\"dnn/hiddenlayer_0/kernel\"))\n",
    "print(estimator.get_variable_value(\"dnn/hiddenlayer_0/bias\"))"
   ]
  },
  {
   "cell_type": "code",
   "execution_count": null,
   "metadata": {},
   "outputs": [],
   "source": []
  },
  {
   "cell_type": "code",
   "execution_count": null,
   "metadata": {},
   "outputs": [],
   "source": []
  },
  {
   "cell_type": "code",
   "execution_count": null,
   "metadata": {},
   "outputs": [],
   "source": [
    "\n"
   ]
  },
  {
   "cell_type": "code",
   "execution_count": null,
   "metadata": {},
   "outputs": [],
   "source": []
  },
  {
   "cell_type": "code",
   "execution_count": null,
   "metadata": {},
   "outputs": [],
   "source": []
  },
  {
   "cell_type": "code",
   "execution_count": null,
   "metadata": {},
   "outputs": [],
   "source": []
  },
  {
   "cell_type": "code",
   "execution_count": null,
   "metadata": {},
   "outputs": [],
   "source": []
  },
  {
   "cell_type": "code",
   "execution_count": null,
   "metadata": {},
   "outputs": [],
   "source": []
  },
  {
   "cell_type": "code",
   "execution_count": null,
   "metadata": {},
   "outputs": [],
   "source": []
  }
 ],
 "metadata": {
  "kernelspec": {
   "display_name": "Python 3",
   "language": "python",
   "name": "python3"
  },
  "language_info": {
   "codemirror_mode": {
    "name": "ipython",
    "version": 3
   },
   "file_extension": ".py",
   "mimetype": "text/x-python",
   "name": "python",
   "nbconvert_exporter": "python",
   "pygments_lexer": "ipython3",
   "version": "3.7.1"
  }
 },
 "nbformat": 4,
 "nbformat_minor": 2
}
