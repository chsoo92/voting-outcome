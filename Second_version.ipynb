{
 "cells": [
  {
   "cell_type": "code",
   "execution_count": 1,
   "metadata": {},
   "outputs": [],
   "source": [
    "import math\n",
    "import numpy as np"
   ]
  },
  {
   "cell_type": "code",
   "execution_count": 2,
   "metadata": {},
   "outputs": [],
   "source": [
    "import csv\n",
    "maxage = 0;\n",
    "minage = 2030\n",
    "with open('train2016.csv', mode='r') as csv_file:\n",
    "    csv_reader = csv.DictReader(csv_file)\n",
    "    noTrainingExamples = 5568 # number of items in csv...  \n",
    "    noColumns = 108 # how many columns will we store... \n",
    "    line_count = 0\n",
    "    outputs = np.zeros(noTrainingExamples)\n",
    "    matrices = np.zeros((noTrainingExamples, noColumns))\n",
    "    columnNames = np.empty([1,noColumns], dtype=object)\n",
    "    userIDs = np.empty([1,noTrainingExamples])\n",
    "    for row in csv_reader:\n",
    "            \n",
    "        matrix = np.zeros(noColumns)\n",
    "#             matrix[0] = float(row['YOB'])\n",
    "        userIDs[0,line_count] = row['USER_ID']\n",
    "        # YOB\n",
    "        columnNames[0,0] = 'YOB'\n",
    "        try:\n",
    "            matrix[0] = (((float(row['YOB'])%1900)/100))\n",
    "             #matrix[0] = (((float(row['YOB'])%1900)/100)-0.5)\n",
    "            if matrix[0] > maxage:\n",
    "                maxage = matrix[0]\n",
    "            if matrix[0] < minage:\n",
    "                minage = matrix[0]\n",
    "        except ValueError:\n",
    "            matrix[0] = -1\n",
    "        \n",
    "        # GENDER\n",
    "        columnNames[0,1] = 'Gender'\n",
    "        if 'Male' in row['Gender']:\n",
    "            matrix[1] = 1\n",
    "        elif 'Female' in row['Gender']:\n",
    "            matrix[1] = 0\n",
    "        else:\n",
    "            matrix[1] = -1\n",
    "        \n",
    "            \n",
    "        #INCOME\n",
    "        columnNames[0,2] = 'Income'\n",
    "        if 'over $150,000' in row['Income']:\n",
    "            matrix[2] = 1\n",
    "        elif '$100,001 - $150,000' in row['Income']:\n",
    "            matrix[2] = 0.8\n",
    "        elif '$75,000 - $100,000' in row['Income']:\n",
    "            matrix[2] = 0.6\n",
    "        elif '$50,000 - $74,999' in row['Income']:\n",
    "            matrix[2] = 0.4\n",
    "        elif '$25,001 - $50,000' in row['Income']:\n",
    "            matrix[2] = 0.1\n",
    "        elif 'under $25,000' in row['Income']:\n",
    "            matrix[2] = 0\n",
    "        else:\n",
    "            matrix[2] = -1\n",
    "        \n",
    "        # HOUSEHOLD\n",
    "        columnNames[0,3] = 'HouseholdStatus'\n",
    "        if 'Married' in row['HouseholdStatus']:\n",
    "            matrix[3] = 1\n",
    "        elif 'Domestic' in row['HouseholdStatus']:\n",
    "            matrix[3] = 0.5\n",
    "        elif 'Single' in row['HouseholdStatus']:\n",
    "            matrix[3] = 0\n",
    "        else:\n",
    "            matrix[3] = -1\n",
    "        \n",
    "        # HAS KIDS OR NOT\n",
    "        columnNames[0,4] = 'Kids'\n",
    "        if 'w/' in row['HouseholdStatus']:\n",
    "            matrix[4] = 1\n",
    "        elif 'no' in row['HouseholdStatus']:\n",
    "            matrix[4] = 0\n",
    "        else:\n",
    "            matrix[4] = -1\n",
    "            \n",
    "        \n",
    "        # EDUCATION\n",
    "        columnNames[0,5] = 'EducationLevel'\n",
    "        if 'Doctoral' in row['EducationLevel']:\n",
    "            matrix[5] = 1\n",
    "        elif 'Master' in row['EducationLevel']:\n",
    "            matrix[5] = 0.9\n",
    "        elif 'Bachelor' in row['EducationLevel']:\n",
    "            matrix[5] = 0.7\n",
    "        elif 'Undergraduate' in row['EducationLevel']:\n",
    "            matrix[5] = 0.6\n",
    "        elif 'Associate' in row['EducationLevel']:\n",
    "            matrix[5] = 0.5\n",
    "        elif 'High School Diploma' in row['EducationLevel']:\n",
    "            matrix[5] = 0.25\n",
    "        elif 'K-12' in row['EducationLevel']:\n",
    "            matrix[5] = 0.0\n",
    "        else:\n",
    "            matrix[5] = -1\n",
    "            \n",
    "        nextIndex = 6\n",
    "        for col in row:\n",
    "            if col in ['USER_ID', 'YOB', 'Gender', 'Income', 'HouseholdStatus', 'EducationLevel','Party']:\n",
    "                continue\n",
    "            if row[col] in ['Yes', 'Check!', 'Optimist', 'Mom', 'Rent', 'Yay people!', 'Online', 'Yes!', 'Socialize', 'Cautious', 'Mac', 'Supportive', 'Tunes', 'People', 'TMI', 'Start', 'Circumstances', 'A.M.', 'Happy', 'Hot headed', 'Standard hours', 'Idealist', 'Giving', 'Study first', 'Science', 'Public']:\n",
    "                matrix[nextIndex] = 1\n",
    "            elif row[col] in ['No', 'Only-child', 'Nope', 'Pessimist', 'Dad', 'Own', 'Grrr people', 'In-person', 'Umm...', 'Space', 'Risk-friendly', 'PC', 'Demanding', 'Talk', 'Technology', 'Mysterious', 'End', 'Me', 'P.M.', 'Right', 'Cool headed', 'Odd hours', 'Pragmatist', 'Receiving', 'Try first', 'Art', 'Private']:\n",
    "                matrix[nextIndex] = 0\n",
    "            else:\n",
    "                matrix[nextIndex] = -1\n",
    "            columnNames[0,nextIndex] = col\n",
    "            nextIndex += 1\n",
    "            \n",
    "        try:\n",
    "            partyAff = row['Party']\n",
    "            columnNames[0,nextIndex] = 'Party'\n",
    "            if 'Dem' in row['Party']:\n",
    "                matrix[nextIndex] = 1\n",
    "                outputs[line_count] = 1\n",
    "            elif 'Rep' in row['Party']:\n",
    "                matrix[nextIndex] = 0\n",
    "                outputs[line_count] = 0\n",
    "            else:\n",
    "                matrix[nextIndex] = -1\n",
    "                outputs[line_count] = -1\n",
    "        except:\n",
    "            matrix[nextIndex] = -1\n",
    "          \n",
    "        matrices[line_count,:] = matrix\n",
    "        line_count +=1\n",
    "        if line_count >= noTrainingExamples:\n",
    "            break"
   ]
  },
  {
   "cell_type": "code",
   "execution_count": 3,
   "metadata": {},
   "outputs": [
    {
     "data": {
      "text/plain": [
       "0.0"
      ]
     },
     "execution_count": 3,
     "metadata": {},
     "output_type": "execute_result"
    }
   ],
   "source": [
    "maxage\n",
    "minage"
   ]
  },
  {
   "cell_type": "code",
   "execution_count": 4,
   "metadata": {},
   "outputs": [
    {
     "name": "stdout",
     "output_type": "stream",
     "text": [
      "    YOB  Gender  Income  HouseholdStatus  Kids  EducationLevel  Q124742  \\\n",
      "0  0.38     1.0    -1.0              1.0   1.0           -1.00      0.0   \n",
      "1  0.70     0.0     1.0              0.5   1.0            0.70     -1.0   \n",
      "2  0.97     1.0     0.6              0.0   0.0            0.25     -1.0   \n",
      "3  0.83     1.0     0.8              1.0   1.0            0.70      0.0   \n",
      "4  0.84     0.0     0.4              1.0   1.0            0.25      0.0   \n",
      "\n",
      "   Q124122  Q123464  Q123621  ...    Q99716  Q99581  Q99480  Q98869  Q98578  \\\n",
      "0     -1.0      0.0      0.0  ...       0.0     0.0    -1.0     0.0    -1.0   \n",
      "1      1.0      0.0      0.0  ...      -1.0    -1.0     0.0     0.0     0.0   \n",
      "2      1.0      1.0      0.0  ...       0.0     0.0     0.0     1.0     0.0   \n",
      "3      1.0      0.0      1.0  ...       0.0     0.0     1.0     1.0     0.0   \n",
      "4      1.0      0.0      0.0  ...       0.0     0.0     1.0     0.0     0.0   \n",
      "\n",
      "   Q98059  Q98078  Q98197  Q96024  Party  \n",
      "0     0.0     0.0     0.0     1.0    1.0  \n",
      "1     0.0     1.0     0.0     0.0    1.0  \n",
      "2     1.0     0.0     1.0     0.0    0.0  \n",
      "3     1.0     0.0     0.0     1.0    1.0  \n",
      "4     1.0     0.0     0.0     1.0    0.0  \n",
      "\n",
      "[5 rows x 108 columns]\n"
     ]
    }
   ],
   "source": [
    "import pandas as pd\n",
    "data = pd.DataFrame(data=matrices,\n",
    "                   columns=columnNames[0,:])\n",
    "print(data.head())"
   ]
  },
  {
   "cell_type": "code",
   "execution_count": 5,
   "metadata": {},
   "outputs": [
    {
     "data": {
      "text/plain": [
       "-1.0"
      ]
     },
     "execution_count": 5,
     "metadata": {},
     "output_type": "execute_result"
    }
   ],
   "source": [
    "min(data['YOB'])"
   ]
  },
  {
   "cell_type": "code",
   "execution_count": 6,
   "metadata": {},
   "outputs": [],
   "source": [
    "# import matplotlib.pyplot as plt\n",
    "# # import tensorflow as tf\n",
    "# %matplotlib inline\n",
    "# # import os\n",
    "# # os.environ[\"CUDA_VISIBLE_DEVICES\"]=\"0\" #for training on gpu"
   ]
  },
  {
   "cell_type": "code",
   "execution_count": 7,
   "metadata": {},
   "outputs": [
    {
     "name": "stdout",
     "output_type": "stream",
     "text": [
      "(5568, 108)\n"
     ]
    }
   ],
   "source": [
    "#108 questions from 5568 people\n",
    "print(data.shape)"
   ]
  },
  {
   "cell_type": "code",
   "execution_count": 8,
   "metadata": {},
   "outputs": [
    {
     "name": "stdout",
     "output_type": "stream",
     "text": [
      "    YOB  Gender  Income  HouseholdStatus  Kids  EducationLevel  Q124742  \\\n",
      "0  0.38     1.0    -1.0              1.0   1.0           -1.00      0.0   \n",
      "1  0.70     0.0     1.0              0.5   1.0            0.70     -1.0   \n",
      "2  0.97     1.0     0.6              0.0   0.0            0.25     -1.0   \n",
      "3  0.83     1.0     0.8              1.0   1.0            0.70      0.0   \n",
      "4  0.84     0.0     0.4              1.0   1.0            0.25      0.0   \n",
      "\n",
      "   Q124122  Q123464  Q123621   ...    Q100010  Q99716  Q99581  Q99480  Q98869  \\\n",
      "0     -1.0      0.0      0.0   ...        1.0     0.0     0.0    -1.0     0.0   \n",
      "1      1.0      0.0      0.0   ...       -1.0    -1.0    -1.0     0.0     0.0   \n",
      "2      1.0      1.0      0.0   ...        1.0     0.0     0.0     0.0     1.0   \n",
      "3      1.0      0.0      1.0   ...        0.0     0.0     0.0     1.0     1.0   \n",
      "4      1.0      0.0      0.0   ...        1.0     0.0     0.0     1.0     0.0   \n",
      "\n",
      "   Q98578  Q98059  Q98078  Q98197  Q96024  \n",
      "0    -1.0     0.0     0.0     0.0     1.0  \n",
      "1     0.0     0.0     1.0     0.0     0.0  \n",
      "2     0.0     1.0     0.0     1.0     0.0  \n",
      "3     0.0     1.0     0.0     0.0     1.0  \n",
      "4     0.0     1.0     0.0     0.0     1.0  \n",
      "\n",
      "[5 rows x 107 columns]\n",
      "0    1.0\n",
      "1    1.0\n",
      "2    0.0\n",
      "3    1.0\n",
      "4    0.0\n",
      "Name: Party, dtype: float64\n"
     ]
    }
   ],
   "source": [
    "# remove political party entry from the input\n",
    "X = data.drop('Party', axis=1)\n",
    "y = data['Party']\n",
    "print(X.head())\n",
    "print(y.head())"
   ]
  },
  {
   "cell_type": "code",
   "execution_count": 9,
   "metadata": {},
   "outputs": [
    {
     "name": "stderr",
     "output_type": "stream",
     "text": [
      "WARNING: Logging before flag parsing goes to stderr.\n",
      "W0422 18:27:01.232311 4321736128 __init__.py:56] Some hub symbols are not available because TensorFlow version is less than 1.14\n"
     ]
    }
   ],
   "source": [
    "import tensorflow as tf\n",
    "import tensorflow_hub as hub\n",
    "import matplotlib.pyplot as plt\n",
    "# import numpy as np\n",
    "import os\n",
    "# import pandas as pd\n",
    "import re\n",
    "import seaborn as sns"
   ]
  },
  {
   "cell_type": "code",
   "execution_count": 10,
   "metadata": {},
   "outputs": [
    {
     "name": "stdout",
     "output_type": "stream",
     "text": [
      "4492\n",
      "1076\n"
     ]
    }
   ],
   "source": [
    "\n",
    "msk = np.random.rand(len(data)) < 0.8\n",
    "train_data = data[msk]\n",
    "test_data = data[~msk]\n",
    "print(len(train_data))\n",
    "print(len(test_data))\n",
    "\n",
    "\n",
    "# Training input on the whole training set with no limit on training epochs.\n",
    "train_input_fn = tf.estimator.inputs.pandas_input_fn(\n",
    "    train_data, train_data[\"Party\"], num_epochs=None, shuffle=True)\n",
    "\n",
    "# Prediction on the whole training set.\n",
    "predict_train_input_fn = tf.estimator.inputs.pandas_input_fn(\n",
    "    train_data, train_data[\"Party\"], shuffle=False)\n",
    "# Prediction on the test set.\n",
    "predict_test_input_fn = tf.estimator.inputs.pandas_input_fn(\n",
    "    test_data, test_data[\"Party\"], shuffle=False)"
   ]
  },
  {
   "cell_type": "code",
   "execution_count": 11,
   "metadata": {},
   "outputs": [],
   "source": [
    "from sklearn.model_selection import train_test_split\n",
    "X_train, X_test, y_train, y_test = train_test_split(X,y,test_size = 0.20)"
   ]
  },
  {
   "cell_type": "code",
   "execution_count": 12,
   "metadata": {},
   "outputs": [
    {
     "name": "stdout",
     "output_type": "stream",
     "text": [
      "INFO:tensorflow:Using default config.\n"
     ]
    },
    {
     "name": "stderr",
     "output_type": "stream",
     "text": [
      "I0422 18:27:02.653707 4321736128 estimator.py:1739] Using default config.\n"
     ]
    },
    {
     "name": "stdout",
     "output_type": "stream",
     "text": [
      "WARNING:tensorflow:Using temporary folder as model directory: /var/folders/y9/7kjb4fj50lngbqcff3_4y4n40000gn/T/tmpppw_jez4\n"
     ]
    },
    {
     "name": "stderr",
     "output_type": "stream",
     "text": [
      "W0422 18:27:02.661241 4321736128 estimator.py:1760] Using temporary folder as model directory: /var/folders/y9/7kjb4fj50lngbqcff3_4y4n40000gn/T/tmpppw_jez4\n"
     ]
    },
    {
     "name": "stdout",
     "output_type": "stream",
     "text": [
      "INFO:tensorflow:Using config: {'_model_dir': '/var/folders/y9/7kjb4fj50lngbqcff3_4y4n40000gn/T/tmpppw_jez4', '_tf_random_seed': None, '_save_summary_steps': 100, '_save_checkpoints_steps': None, '_save_checkpoints_secs': 600, '_session_config': allow_soft_placement: true\n",
      "graph_options {\n",
      "  rewrite_options {\n",
      "    meta_optimizer_iterations: ONE\n",
      "  }\n",
      "}\n",
      ", '_keep_checkpoint_max': 5, '_keep_checkpoint_every_n_hours': 10000, '_log_step_count_steps': 100, '_train_distribute': None, '_device_fn': None, '_protocol': None, '_eval_distribute': None, '_experimental_distribute': None, '_service': None, '_cluster_spec': <tensorflow.python.training.server_lib.ClusterSpec object at 0x1a27c43550>, '_task_type': 'worker', '_task_id': 0, '_global_id_in_cluster': 0, '_master': '', '_evaluation_master': '', '_is_chief': True, '_num_ps_replicas': 0, '_num_worker_replicas': 1}\n"
     ]
    },
    {
     "name": "stderr",
     "output_type": "stream",
     "text": [
      "I0422 18:27:02.665551 4321736128 estimator.py:201] Using config: {'_model_dir': '/var/folders/y9/7kjb4fj50lngbqcff3_4y4n40000gn/T/tmpppw_jez4', '_tf_random_seed': None, '_save_summary_steps': 100, '_save_checkpoints_steps': None, '_save_checkpoints_secs': 600, '_session_config': allow_soft_placement: true\n",
      "graph_options {\n",
      "  rewrite_options {\n",
      "    meta_optimizer_iterations: ONE\n",
      "  }\n",
      "}\n",
      ", '_keep_checkpoint_max': 5, '_keep_checkpoint_every_n_hours': 10000, '_log_step_count_steps': 100, '_train_distribute': None, '_device_fn': None, '_protocol': None, '_eval_distribute': None, '_experimental_distribute': None, '_service': None, '_cluster_spec': <tensorflow.python.training.server_lib.ClusterSpec object at 0x1a27c43550>, '_task_type': 'worker', '_task_id': 0, '_global_id_in_cluster': 0, '_master': '', '_evaluation_master': '', '_is_chief': True, '_num_ps_replicas': 0, '_num_worker_replicas': 1}\n"
     ]
    }
   ],
   "source": [
    "#DNN configuration\n",
    "feature_columns = [tf.feature_column.numeric_column(key = key) for key in X_train.columns]\n",
    "estimator = tf.estimator.DNNClassifier(\n",
    "                hidden_units=[50,50,25],\n",
    "                feature_columns=feature_columns,\n",
    "                n_classes=2,\n",
    "                optimizer=tf.train.AdagradOptimizer(learning_rate=0.003))"
   ]
  },
  {
   "cell_type": "code",
   "execution_count": 13,
   "metadata": {},
   "outputs": [
    {
     "name": "stdout",
     "output_type": "stream",
     "text": [
      "WARNING:tensorflow:From /Users/suhwanchoi/anaconda3/lib/python3.7/site-packages/tensorflow/python/framework/op_def_library.py:263: colocate_with (from tensorflow.python.framework.ops) is deprecated and will be removed in a future version.\n",
      "Instructions for updating:\n",
      "Colocations handled automatically by placer.\n"
     ]
    },
    {
     "name": "stderr",
     "output_type": "stream",
     "text": [
      "W0422 18:27:02.699701 4321736128 deprecation.py:323] From /Users/suhwanchoi/anaconda3/lib/python3.7/site-packages/tensorflow/python/framework/op_def_library.py:263: colocate_with (from tensorflow.python.framework.ops) is deprecated and will be removed in a future version.\n",
      "Instructions for updating:\n",
      "Colocations handled automatically by placer.\n"
     ]
    },
    {
     "name": "stdout",
     "output_type": "stream",
     "text": [
      "WARNING:tensorflow:From /Users/suhwanchoi/anaconda3/lib/python3.7/site-packages/tensorflow_estimator/python/estimator/inputs/queues/feeding_queue_runner.py:62: QueueRunner.__init__ (from tensorflow.python.training.queue_runner_impl) is deprecated and will be removed in a future version.\n",
      "Instructions for updating:\n",
      "To construct input pipelines, use the `tf.data` module.\n"
     ]
    },
    {
     "name": "stderr",
     "output_type": "stream",
     "text": [
      "W0422 18:27:02.880927 4321736128 deprecation.py:323] From /Users/suhwanchoi/anaconda3/lib/python3.7/site-packages/tensorflow_estimator/python/estimator/inputs/queues/feeding_queue_runner.py:62: QueueRunner.__init__ (from tensorflow.python.training.queue_runner_impl) is deprecated and will be removed in a future version.\n",
      "Instructions for updating:\n",
      "To construct input pipelines, use the `tf.data` module.\n"
     ]
    },
    {
     "name": "stdout",
     "output_type": "stream",
     "text": [
      "WARNING:tensorflow:From /Users/suhwanchoi/anaconda3/lib/python3.7/site-packages/tensorflow_estimator/python/estimator/inputs/queues/feeding_functions.py:500: add_queue_runner (from tensorflow.python.training.queue_runner_impl) is deprecated and will be removed in a future version.\n",
      "Instructions for updating:\n",
      "To construct input pipelines, use the `tf.data` module.\n"
     ]
    },
    {
     "name": "stderr",
     "output_type": "stream",
     "text": [
      "W0422 18:27:02.884873 4321736128 deprecation.py:323] From /Users/suhwanchoi/anaconda3/lib/python3.7/site-packages/tensorflow_estimator/python/estimator/inputs/queues/feeding_functions.py:500: add_queue_runner (from tensorflow.python.training.queue_runner_impl) is deprecated and will be removed in a future version.\n",
      "Instructions for updating:\n",
      "To construct input pipelines, use the `tf.data` module.\n"
     ]
    },
    {
     "name": "stdout",
     "output_type": "stream",
     "text": [
      "INFO:tensorflow:Calling model_fn.\n"
     ]
    },
    {
     "name": "stderr",
     "output_type": "stream",
     "text": [
      "I0422 18:27:02.898386 4321736128 estimator.py:1111] Calling model_fn.\n"
     ]
    },
    {
     "name": "stdout",
     "output_type": "stream",
     "text": [
      "WARNING:tensorflow:From /Users/suhwanchoi/anaconda3/lib/python3.7/site-packages/tensorflow/python/feature_column/feature_column_v2.py:2703: to_float (from tensorflow.python.ops.math_ops) is deprecated and will be removed in a future version.\n",
      "Instructions for updating:\n",
      "Use tf.cast instead.\n"
     ]
    },
    {
     "name": "stderr",
     "output_type": "stream",
     "text": [
      "W0422 18:27:02.914836 4321736128 deprecation.py:323] From /Users/suhwanchoi/anaconda3/lib/python3.7/site-packages/tensorflow/python/feature_column/feature_column_v2.py:2703: to_float (from tensorflow.python.ops.math_ops) is deprecated and will be removed in a future version.\n",
      "Instructions for updating:\n",
      "Use tf.cast instead.\n"
     ]
    },
    {
     "name": "stdout",
     "output_type": "stream",
     "text": [
      "INFO:tensorflow:Done calling model_fn.\n"
     ]
    },
    {
     "name": "stderr",
     "output_type": "stream",
     "text": [
      "I0422 18:27:04.061016 4321736128 estimator.py:1113] Done calling model_fn.\n"
     ]
    },
    {
     "name": "stdout",
     "output_type": "stream",
     "text": [
      "INFO:tensorflow:Create CheckpointSaverHook.\n"
     ]
    },
    {
     "name": "stderr",
     "output_type": "stream",
     "text": [
      "I0422 18:27:04.062435 4321736128 basic_session_run_hooks.py:527] Create CheckpointSaverHook.\n"
     ]
    },
    {
     "name": "stdout",
     "output_type": "stream",
     "text": [
      "INFO:tensorflow:Graph was finalized.\n"
     ]
    },
    {
     "name": "stderr",
     "output_type": "stream",
     "text": [
      "I0422 18:27:04.511493 4321736128 monitored_session.py:222] Graph was finalized.\n"
     ]
    },
    {
     "name": "stdout",
     "output_type": "stream",
     "text": [
      "INFO:tensorflow:Running local_init_op.\n"
     ]
    },
    {
     "name": "stderr",
     "output_type": "stream",
     "text": [
      "I0422 18:27:04.646084 4321736128 session_manager.py:491] Running local_init_op.\n"
     ]
    },
    {
     "name": "stdout",
     "output_type": "stream",
     "text": [
      "INFO:tensorflow:Done running local_init_op.\n"
     ]
    },
    {
     "name": "stderr",
     "output_type": "stream",
     "text": [
      "I0422 18:27:04.674539 4321736128 session_manager.py:493] Done running local_init_op.\n"
     ]
    },
    {
     "name": "stdout",
     "output_type": "stream",
     "text": [
      "WARNING:tensorflow:From /Users/suhwanchoi/anaconda3/lib/python3.7/site-packages/tensorflow/python/training/monitored_session.py:809: start_queue_runners (from tensorflow.python.training.queue_runner_impl) is deprecated and will be removed in a future version.\n",
      "Instructions for updating:\n",
      "To construct input pipelines, use the `tf.data` module.\n"
     ]
    },
    {
     "name": "stderr",
     "output_type": "stream",
     "text": [
      "W0422 18:27:04.707746 4321736128 deprecation.py:323] From /Users/suhwanchoi/anaconda3/lib/python3.7/site-packages/tensorflow/python/training/monitored_session.py:809: start_queue_runners (from tensorflow.python.training.queue_runner_impl) is deprecated and will be removed in a future version.\n",
      "Instructions for updating:\n",
      "To construct input pipelines, use the `tf.data` module.\n"
     ]
    },
    {
     "name": "stdout",
     "output_type": "stream",
     "text": [
      "INFO:tensorflow:Saving checkpoints for 0 into /var/folders/y9/7kjb4fj50lngbqcff3_4y4n40000gn/T/tmpppw_jez4/model.ckpt.\n"
     ]
    },
    {
     "name": "stderr",
     "output_type": "stream",
     "text": [
      "I0422 18:27:05.543862 4321736128 basic_session_run_hooks.py:594] Saving checkpoints for 0 into /var/folders/y9/7kjb4fj50lngbqcff3_4y4n40000gn/T/tmpppw_jez4/model.ckpt.\n"
     ]
    },
    {
     "name": "stdout",
     "output_type": "stream",
     "text": [
      "INFO:tensorflow:loss = 91.83519, step = 1\n"
     ]
    },
    {
     "name": "stderr",
     "output_type": "stream",
     "text": [
      "I0422 18:27:05.982000 4321736128 basic_session_run_hooks.py:249] loss = 91.83519, step = 1\n"
     ]
    },
    {
     "name": "stdout",
     "output_type": "stream",
     "text": [
      "INFO:tensorflow:global_step/sec: 65.2383\n"
     ]
    },
    {
     "name": "stderr",
     "output_type": "stream",
     "text": [
      "I0422 18:27:07.514511 4321736128 basic_session_run_hooks.py:680] global_step/sec: 65.2383\n"
     ]
    },
    {
     "name": "stdout",
     "output_type": "stream",
     "text": [
      "INFO:tensorflow:loss = 88.42901, step = 101 (1.536 sec)\n"
     ]
    },
    {
     "name": "stderr",
     "output_type": "stream",
     "text": [
      "I0422 18:27:07.518234 4321736128 basic_session_run_hooks.py:247] loss = 88.42901, step = 101 (1.536 sec)\n"
     ]
    },
    {
     "name": "stdout",
     "output_type": "stream",
     "text": [
      "INFO:tensorflow:global_step/sec: 78.076\n"
     ]
    },
    {
     "name": "stderr",
     "output_type": "stream",
     "text": [
      "I0422 18:27:08.795315 4321736128 basic_session_run_hooks.py:680] global_step/sec: 78.076\n"
     ]
    },
    {
     "name": "stdout",
     "output_type": "stream",
     "text": [
      "INFO:tensorflow:loss = 84.42958, step = 201 (1.279 sec)\n"
     ]
    },
    {
     "name": "stderr",
     "output_type": "stream",
     "text": [
      "I0422 18:27:08.797194 4321736128 basic_session_run_hooks.py:247] loss = 84.42958, step = 201 (1.279 sec)\n"
     ]
    },
    {
     "name": "stdout",
     "output_type": "stream",
     "text": [
      "INFO:tensorflow:global_step/sec: 71.0076\n"
     ]
    },
    {
     "name": "stderr",
     "output_type": "stream",
     "text": [
      "I0422 18:27:10.203659 4321736128 basic_session_run_hooks.py:680] global_step/sec: 71.0076\n"
     ]
    },
    {
     "name": "stdout",
     "output_type": "stream",
     "text": [
      "INFO:tensorflow:loss = 81.76712, step = 301 (1.409 sec)\n"
     ]
    },
    {
     "name": "stderr",
     "output_type": "stream",
     "text": [
      "I0422 18:27:10.205857 4321736128 basic_session_run_hooks.py:247] loss = 81.76712, step = 301 (1.409 sec)\n"
     ]
    },
    {
     "name": "stdout",
     "output_type": "stream",
     "text": [
      "INFO:tensorflow:global_step/sec: 71.4265\n"
     ]
    },
    {
     "name": "stderr",
     "output_type": "stream",
     "text": [
      "I0422 18:27:11.603663 4321736128 basic_session_run_hooks.py:680] global_step/sec: 71.4265\n"
     ]
    },
    {
     "name": "stdout",
     "output_type": "stream",
     "text": [
      "INFO:tensorflow:loss = 84.86818, step = 401 (1.400 sec)\n"
     ]
    },
    {
     "name": "stderr",
     "output_type": "stream",
     "text": [
      "I0422 18:27:11.605504 4321736128 basic_session_run_hooks.py:247] loss = 84.86818, step = 401 (1.400 sec)\n"
     ]
    },
    {
     "name": "stdout",
     "output_type": "stream",
     "text": [
      "INFO:tensorflow:global_step/sec: 72.4802\n"
     ]
    },
    {
     "name": "stderr",
     "output_type": "stream",
     "text": [
      "I0422 18:27:12.983349 4321736128 basic_session_run_hooks.py:680] global_step/sec: 72.4802\n"
     ]
    },
    {
     "name": "stdout",
     "output_type": "stream",
     "text": [
      "INFO:tensorflow:loss = 82.01047, step = 501 (1.380 sec)\n"
     ]
    },
    {
     "name": "stderr",
     "output_type": "stream",
     "text": [
      "I0422 18:27:12.985840 4321736128 basic_session_run_hooks.py:247] loss = 82.01047, step = 501 (1.380 sec)\n"
     ]
    },
    {
     "name": "stdout",
     "output_type": "stream",
     "text": [
      "INFO:tensorflow:global_step/sec: 63.8281\n"
     ]
    },
    {
     "name": "stderr",
     "output_type": "stream",
     "text": [
      "I0422 18:27:14.550050 4321736128 basic_session_run_hooks.py:680] global_step/sec: 63.8281\n"
     ]
    },
    {
     "name": "stdout",
     "output_type": "stream",
     "text": [
      "INFO:tensorflow:loss = 79.02722, step = 601 (1.568 sec)\n"
     ]
    },
    {
     "name": "stderr",
     "output_type": "stream",
     "text": [
      "I0422 18:27:14.553886 4321736128 basic_session_run_hooks.py:247] loss = 79.02722, step = 601 (1.568 sec)\n"
     ]
    },
    {
     "name": "stdout",
     "output_type": "stream",
     "text": [
      "INFO:tensorflow:global_step/sec: 63.647\n"
     ]
    },
    {
     "name": "stderr",
     "output_type": "stream",
     "text": [
      "I0422 18:27:16.121251 4321736128 basic_session_run_hooks.py:680] global_step/sec: 63.647\n"
     ]
    },
    {
     "name": "stdout",
     "output_type": "stream",
     "text": [
      "INFO:tensorflow:loss = 82.28577, step = 701 (1.572 sec)\n"
     ]
    },
    {
     "name": "stderr",
     "output_type": "stream",
     "text": [
      "I0422 18:27:16.126327 4321736128 basic_session_run_hooks.py:247] loss = 82.28577, step = 701 (1.572 sec)\n"
     ]
    },
    {
     "name": "stdout",
     "output_type": "stream",
     "text": [
      "INFO:tensorflow:global_step/sec: 66.7034\n"
     ]
    },
    {
     "name": "stderr",
     "output_type": "stream",
     "text": [
      "I0422 18:27:17.620388 4321736128 basic_session_run_hooks.py:680] global_step/sec: 66.7034\n"
     ]
    },
    {
     "name": "stdout",
     "output_type": "stream",
     "text": [
      "INFO:tensorflow:loss = 75.951454, step = 801 (1.496 sec)\n"
     ]
    },
    {
     "name": "stderr",
     "output_type": "stream",
     "text": [
      "I0422 18:27:17.622636 4321736128 basic_session_run_hooks.py:247] loss = 75.951454, step = 801 (1.496 sec)\n"
     ]
    },
    {
     "name": "stdout",
     "output_type": "stream",
     "text": [
      "INFO:tensorflow:global_step/sec: 68.8745\n"
     ]
    },
    {
     "name": "stderr",
     "output_type": "stream",
     "text": [
      "I0422 18:27:19.072325 4321736128 basic_session_run_hooks.py:680] global_step/sec: 68.8745\n"
     ]
    },
    {
     "name": "stdout",
     "output_type": "stream",
     "text": [
      "INFO:tensorflow:loss = 81.578, step = 901 (1.452 sec)\n"
     ]
    },
    {
     "name": "stderr",
     "output_type": "stream",
     "text": [
      "I0422 18:27:19.074673 4321736128 basic_session_run_hooks.py:247] loss = 81.578, step = 901 (1.452 sec)\n"
     ]
    },
    {
     "name": "stdout",
     "output_type": "stream",
     "text": [
      "INFO:tensorflow:Saving checkpoints for 1000 into /var/folders/y9/7kjb4fj50lngbqcff3_4y4n40000gn/T/tmpppw_jez4/model.ckpt.\n"
     ]
    },
    {
     "name": "stderr",
     "output_type": "stream",
     "text": [
      "I0422 18:27:20.646064 4321736128 basic_session_run_hooks.py:594] Saving checkpoints for 1000 into /var/folders/y9/7kjb4fj50lngbqcff3_4y4n40000gn/T/tmpppw_jez4/model.ckpt.\n"
     ]
    },
    {
     "name": "stdout",
     "output_type": "stream",
     "text": [
      "INFO:tensorflow:Loss for final step: 78.6604.\n"
     ]
    },
    {
     "name": "stderr",
     "output_type": "stream",
     "text": [
      "I0422 18:27:20.977084 4321736128 estimator.py:359] Loss for final step: 78.6604.\n"
     ]
    },
    {
     "data": {
      "text/plain": [
       "<tensorflow_estimator.python.estimator.canned.dnn.DNNClassifier at 0x1a27c43358>"
      ]
     },
     "execution_count": 13,
     "metadata": {},
     "output_type": "execute_result"
    }
   ],
   "source": [
    "# configure the amount of trainings\n",
    "estimator.train(input_fn=train_input_fn, steps=1000)"
   ]
  },
  {
   "cell_type": "code",
   "execution_count": 14,
   "metadata": {},
   "outputs": [
    {
     "name": "stdout",
     "output_type": "stream",
     "text": [
      "INFO:tensorflow:Calling model_fn.\n"
     ]
    },
    {
     "name": "stderr",
     "output_type": "stream",
     "text": [
      "I0422 18:27:21.069617 4321736128 estimator.py:1111] Calling model_fn.\n"
     ]
    },
    {
     "name": "stdout",
     "output_type": "stream",
     "text": [
      "WARNING:tensorflow:From /Users/suhwanchoi/anaconda3/lib/python3.7/site-packages/tensorflow/python/ops/metrics_impl.py:2002: div (from tensorflow.python.ops.math_ops) is deprecated and will be removed in a future version.\n",
      "Instructions for updating:\n",
      "Deprecated in favor of operator or tf.math.divide.\n"
     ]
    },
    {
     "name": "stderr",
     "output_type": "stream",
     "text": [
      "W0422 18:27:22.270833 4321736128 deprecation.py:323] From /Users/suhwanchoi/anaconda3/lib/python3.7/site-packages/tensorflow/python/ops/metrics_impl.py:2002: div (from tensorflow.python.ops.math_ops) is deprecated and will be removed in a future version.\n",
      "Instructions for updating:\n",
      "Deprecated in favor of operator or tf.math.divide.\n"
     ]
    },
    {
     "name": "stdout",
     "output_type": "stream",
     "text": [
      "WARNING:tensorflow:Trapezoidal rule is known to produce incorrect PR-AUCs; please switch to \"careful_interpolation\" instead.\n"
     ]
    },
    {
     "name": "stderr",
     "output_type": "stream",
     "text": [
      "W0422 18:27:22.609874 4321736128 metrics_impl.py:783] Trapezoidal rule is known to produce incorrect PR-AUCs; please switch to \"careful_interpolation\" instead.\n"
     ]
    },
    {
     "name": "stdout",
     "output_type": "stream",
     "text": [
      "WARNING:tensorflow:Trapezoidal rule is known to produce incorrect PR-AUCs; please switch to \"careful_interpolation\" instead.\n"
     ]
    },
    {
     "name": "stderr",
     "output_type": "stream",
     "text": [
      "W0422 18:27:22.635375 4321736128 metrics_impl.py:783] Trapezoidal rule is known to produce incorrect PR-AUCs; please switch to \"careful_interpolation\" instead.\n"
     ]
    },
    {
     "name": "stdout",
     "output_type": "stream",
     "text": [
      "INFO:tensorflow:Done calling model_fn.\n"
     ]
    },
    {
     "name": "stderr",
     "output_type": "stream",
     "text": [
      "I0422 18:27:22.658828 4321736128 estimator.py:1113] Done calling model_fn.\n"
     ]
    },
    {
     "name": "stdout",
     "output_type": "stream",
     "text": [
      "INFO:tensorflow:Starting evaluation at 2020-04-22T09:27:22Z\n"
     ]
    },
    {
     "name": "stderr",
     "output_type": "stream",
     "text": [
      "I0422 18:27:22.678977 4321736128 evaluation.py:257] Starting evaluation at 2020-04-22T09:27:22Z\n"
     ]
    },
    {
     "name": "stdout",
     "output_type": "stream",
     "text": [
      "INFO:tensorflow:Graph was finalized.\n"
     ]
    },
    {
     "name": "stderr",
     "output_type": "stream",
     "text": [
      "I0422 18:27:22.797040 4321736128 monitored_session.py:222] Graph was finalized.\n"
     ]
    },
    {
     "name": "stdout",
     "output_type": "stream",
     "text": [
      "WARNING:tensorflow:From /Users/suhwanchoi/anaconda3/lib/python3.7/site-packages/tensorflow/python/training/saver.py:1266: checkpoint_exists (from tensorflow.python.training.checkpoint_management) is deprecated and will be removed in a future version.\n",
      "Instructions for updating:\n",
      "Use standard file APIs to check for files with this prefix.\n"
     ]
    },
    {
     "name": "stderr",
     "output_type": "stream",
     "text": [
      "W0422 18:27:22.798477 4321736128 deprecation.py:323] From /Users/suhwanchoi/anaconda3/lib/python3.7/site-packages/tensorflow/python/training/saver.py:1266: checkpoint_exists (from tensorflow.python.training.checkpoint_management) is deprecated and will be removed in a future version.\n",
      "Instructions for updating:\n",
      "Use standard file APIs to check for files with this prefix.\n"
     ]
    },
    {
     "name": "stdout",
     "output_type": "stream",
     "text": [
      "INFO:tensorflow:Restoring parameters from /var/folders/y9/7kjb4fj50lngbqcff3_4y4n40000gn/T/tmpppw_jez4/model.ckpt-1000\n"
     ]
    },
    {
     "name": "stderr",
     "output_type": "stream",
     "text": [
      "I0422 18:27:22.801492 4321736128 saver.py:1270] Restoring parameters from /var/folders/y9/7kjb4fj50lngbqcff3_4y4n40000gn/T/tmpppw_jez4/model.ckpt-1000\n"
     ]
    },
    {
     "name": "stdout",
     "output_type": "stream",
     "text": [
      "INFO:tensorflow:Running local_init_op.\n"
     ]
    },
    {
     "name": "stderr",
     "output_type": "stream",
     "text": [
      "I0422 18:27:22.913877 4321736128 session_manager.py:491] Running local_init_op.\n"
     ]
    },
    {
     "name": "stdout",
     "output_type": "stream",
     "text": [
      "INFO:tensorflow:Done running local_init_op.\n"
     ]
    },
    {
     "name": "stderr",
     "output_type": "stream",
     "text": [
      "I0422 18:27:22.965705 4321736128 session_manager.py:493] Done running local_init_op.\n"
     ]
    },
    {
     "name": "stdout",
     "output_type": "stream",
     "text": [
      "INFO:tensorflow:Finished evaluation at 2020-04-22-09:27:24\n"
     ]
    },
    {
     "name": "stderr",
     "output_type": "stream",
     "text": [
      "I0422 18:27:24.128844 4321736128 evaluation.py:277] Finished evaluation at 2020-04-22-09:27:24\n"
     ]
    },
    {
     "name": "stdout",
     "output_type": "stream",
     "text": [
      "INFO:tensorflow:Saving dict for global step 1000: accuracy = 0.6756456, accuracy_baseline = 0.5333927, auc = 0.74812925, auc_precision_recall = 0.7722044, average_loss = 0.5952931, global_step = 1000, label/mean = 0.5333927, loss = 74.27935, precision = 0.6824718, prediction/mean = 0.5267721, recall = 0.73288816\n"
     ]
    },
    {
     "name": "stderr",
     "output_type": "stream",
     "text": [
      "I0422 18:27:24.130273 4321736128 estimator.py:1979] Saving dict for global step 1000: accuracy = 0.6756456, accuracy_baseline = 0.5333927, auc = 0.74812925, auc_precision_recall = 0.7722044, average_loss = 0.5952931, global_step = 1000, label/mean = 0.5333927, loss = 74.27935, precision = 0.6824718, prediction/mean = 0.5267721, recall = 0.73288816\n"
     ]
    },
    {
     "name": "stdout",
     "output_type": "stream",
     "text": [
      "INFO:tensorflow:Saving 'checkpoint_path' summary for global step 1000: /var/folders/y9/7kjb4fj50lngbqcff3_4y4n40000gn/T/tmpppw_jez4/model.ckpt-1000\n"
     ]
    },
    {
     "name": "stderr",
     "output_type": "stream",
     "text": [
      "I0422 18:27:24.453919 4321736128 estimator.py:2039] Saving 'checkpoint_path' summary for global step 1000: /var/folders/y9/7kjb4fj50lngbqcff3_4y4n40000gn/T/tmpppw_jez4/model.ckpt-1000\n"
     ]
    },
    {
     "name": "stdout",
     "output_type": "stream",
     "text": [
      "INFO:tensorflow:Calling model_fn.\n"
     ]
    },
    {
     "name": "stderr",
     "output_type": "stream",
     "text": [
      "I0422 18:27:24.519622 4321736128 estimator.py:1111] Calling model_fn.\n"
     ]
    },
    {
     "name": "stdout",
     "output_type": "stream",
     "text": [
      "WARNING:tensorflow:Trapezoidal rule is known to produce incorrect PR-AUCs; please switch to \"careful_interpolation\" instead.\n"
     ]
    },
    {
     "name": "stderr",
     "output_type": "stream",
     "text": [
      "W0422 18:27:25.972696 4321736128 metrics_impl.py:783] Trapezoidal rule is known to produce incorrect PR-AUCs; please switch to \"careful_interpolation\" instead.\n"
     ]
    },
    {
     "name": "stdout",
     "output_type": "stream",
     "text": [
      "WARNING:tensorflow:Trapezoidal rule is known to produce incorrect PR-AUCs; please switch to \"careful_interpolation\" instead.\n"
     ]
    },
    {
     "name": "stderr",
     "output_type": "stream",
     "text": [
      "W0422 18:27:25.992602 4321736128 metrics_impl.py:783] Trapezoidal rule is known to produce incorrect PR-AUCs; please switch to \"careful_interpolation\" instead.\n"
     ]
    },
    {
     "name": "stdout",
     "output_type": "stream",
     "text": [
      "INFO:tensorflow:Done calling model_fn.\n"
     ]
    },
    {
     "name": "stderr",
     "output_type": "stream",
     "text": [
      "I0422 18:27:26.011698 4321736128 estimator.py:1113] Done calling model_fn.\n"
     ]
    },
    {
     "name": "stdout",
     "output_type": "stream",
     "text": [
      "INFO:tensorflow:Starting evaluation at 2020-04-22T09:27:26Z\n"
     ]
    },
    {
     "name": "stderr",
     "output_type": "stream",
     "text": [
      "I0422 18:27:26.030160 4321736128 evaluation.py:257] Starting evaluation at 2020-04-22T09:27:26Z\n"
     ]
    },
    {
     "name": "stdout",
     "output_type": "stream",
     "text": [
      "INFO:tensorflow:Graph was finalized.\n"
     ]
    },
    {
     "name": "stderr",
     "output_type": "stream",
     "text": [
      "I0422 18:27:26.139930 4321736128 monitored_session.py:222] Graph was finalized.\n"
     ]
    },
    {
     "name": "stdout",
     "output_type": "stream",
     "text": [
      "INFO:tensorflow:Restoring parameters from /var/folders/y9/7kjb4fj50lngbqcff3_4y4n40000gn/T/tmpppw_jez4/model.ckpt-1000\n"
     ]
    },
    {
     "name": "stderr",
     "output_type": "stream",
     "text": [
      "I0422 18:27:26.142320 4321736128 saver.py:1270] Restoring parameters from /var/folders/y9/7kjb4fj50lngbqcff3_4y4n40000gn/T/tmpppw_jez4/model.ckpt-1000\n"
     ]
    },
    {
     "name": "stdout",
     "output_type": "stream",
     "text": [
      "INFO:tensorflow:Running local_init_op.\n"
     ]
    },
    {
     "name": "stderr",
     "output_type": "stream",
     "text": [
      "I0422 18:27:26.242719 4321736128 session_manager.py:491] Running local_init_op.\n"
     ]
    },
    {
     "name": "stdout",
     "output_type": "stream",
     "text": [
      "INFO:tensorflow:Done running local_init_op.\n"
     ]
    },
    {
     "name": "stderr",
     "output_type": "stream",
     "text": [
      "I0422 18:27:26.285711 4321736128 session_manager.py:493] Done running local_init_op.\n"
     ]
    },
    {
     "name": "stdout",
     "output_type": "stream",
     "text": [
      "INFO:tensorflow:Finished evaluation at 2020-04-22-09:27:27\n"
     ]
    },
    {
     "name": "stderr",
     "output_type": "stream",
     "text": [
      "I0422 18:27:27.015817 4321736128 evaluation.py:277] Finished evaluation at 2020-04-22-09:27:27\n"
     ]
    },
    {
     "name": "stdout",
     "output_type": "stream",
     "text": [
      "INFO:tensorflow:Saving dict for global step 1000: accuracy = 0.59386617, accuracy_baseline = 0.5157993, auc = 0.62736076, auc_precision_recall = 0.6344193, average_loss = 0.67138255, global_step = 1000, label/mean = 0.5157993, loss = 80.26751, precision = 0.6006826, prediction/mean = 0.51895505, recall = 0.63423425\n"
     ]
    },
    {
     "name": "stderr",
     "output_type": "stream",
     "text": [
      "I0422 18:27:27.016921 4321736128 estimator.py:1979] Saving dict for global step 1000: accuracy = 0.59386617, accuracy_baseline = 0.5157993, auc = 0.62736076, auc_precision_recall = 0.6344193, average_loss = 0.67138255, global_step = 1000, label/mean = 0.5157993, loss = 80.26751, precision = 0.6006826, prediction/mean = 0.51895505, recall = 0.63423425\n"
     ]
    },
    {
     "name": "stdout",
     "output_type": "stream",
     "text": [
      "INFO:tensorflow:Saving 'checkpoint_path' summary for global step 1000: /var/folders/y9/7kjb4fj50lngbqcff3_4y4n40000gn/T/tmpppw_jez4/model.ckpt-1000\n"
     ]
    },
    {
     "name": "stderr",
     "output_type": "stream",
     "text": [
      "I0422 18:27:27.019032 4321736128 estimator.py:2039] Saving 'checkpoint_path' summary for global step 1000: /var/folders/y9/7kjb4fj50lngbqcff3_4y4n40000gn/T/tmpppw_jez4/model.ckpt-1000\n"
     ]
    },
    {
     "name": "stdout",
     "output_type": "stream",
     "text": [
      "Training set accuracy: 0.6756455898284912\n",
      "Test set accuracy: 0.5938661694526672\n"
     ]
    }
   ],
   "source": [
    "# evaluate and display results\n",
    "\n",
    "train_eval_result = estimator.evaluate(input_fn=predict_train_input_fn)\n",
    "test_eval_result = estimator.evaluate(input_fn=predict_test_input_fn)\n",
    "\n",
    "print(\"Training set accuracy: {accuracy}\".format(**train_eval_result))\n",
    "print(\"Test set accuracy: {accuracy}\".format(**test_eval_result))"
   ]
  },
  {
   "cell_type": "code",
   "execution_count": 15,
   "metadata": {},
   "outputs": [],
   "source": [
    "# https://www.tensorflow.org/hub/tutorials/text_classification_with_tf_hub"
   ]
  }
 ],
 "metadata": {
  "kernelspec": {
   "display_name": "Python 3",
   "language": "python",
   "name": "python3"
  },
  "language_info": {
   "codemirror_mode": {
    "name": "ipython",
    "version": 3
   },
   "file_extension": ".py",
   "mimetype": "text/x-python",
   "name": "python",
   "nbconvert_exporter": "python",
   "pygments_lexer": "ipython3",
   "version": "3.7.1"
  }
 },
 "nbformat": 4,
 "nbformat_minor": 2
}
